{
  "nbformat": 4,
  "nbformat_minor": 0,
  "metadata": {
    "colab": {
      "provenance": [],
      "authorship_tag": "ABX9TyPFTPVcZXqQCiNT9L6GTOkg",
      "include_colab_link": true
    },
    "kernelspec": {
      "name": "python3",
      "display_name": "Python 3"
    },
    "language_info": {
      "name": "python"
    }
  },
  "cells": [
    {
      "cell_type": "markdown",
      "metadata": {
        "id": "view-in-github",
        "colab_type": "text"
      },
      "source": [
        "<a href=\"https://colab.research.google.com/github/Bhushan-14/Python/blob/main/Python_9_py.ipynb\" target=\"_parent\"><img src=\"https://colab.research.google.com/assets/colab-badge.svg\" alt=\"Open In Colab\"/></a>"
      ]
    },
    {
      "cell_type": "code",
      "execution_count": null,
      "metadata": {
        "id": "i5PAexMHAr4o"
      },
      "outputs": [],
      "source": [
        "#Python Regular Expressions\n",
        "#A RegEx or REgular Expression, ia a sequence of character that forms a search pattern.\n",
        "#RegEx can be used to check if a String contains the specified search pattern.\n",
        "#Python has a built in package called re which can be used to work with Regular Expressions"
      ]
    },
    {
      "cell_type": "code",
      "source": [
        "#Check if the String starts with \"The\" and ends with \"Spain\"\n",
        "import re\n",
        "txt = \"The rain in RCPIT\"\n",
        "x = re.search(\"RCPIT\",txt)\n",
        "if x:\n",
        "  print(\"YES! We have the Match\")\n",
        "else:\n",
        "  print(\"No Match Found\")"
      ],
      "metadata": {
        "colab": {
          "base_uri": "https://localhost:8080/"
        },
        "id": "o5LZydB3BUrR",
        "outputId": "6655b710-a2dd-4619-95c0-e4ee02d6ea31"
      },
      "execution_count": 8,
      "outputs": [
        {
          "output_type": "stream",
          "name": "stdout",
          "text": [
            "YES! We have the Match\n"
          ]
        }
      ]
    },
    {
      "cell_type": "code",
      "source": [
        "import re\n",
        "txt = \"That will be 56 and 89 Dollars\"\n",
        "\n",
        "#Find all the digit characters\n",
        "\n",
        "x = re.findall(\"\\d\",txt)\n",
        "print(x)"
      ],
      "metadata": {
        "colab": {
          "base_uri": "https://localhost:8080/"
        },
        "id": "3gOinHrHCHzZ",
        "outputId": "5a80b51a-0e9b-4609-d783-4b32d2e86d54"
      },
      "execution_count": 6,
      "outputs": [
        {
          "output_type": "stream",
          "name": "stdout",
          "text": [
            "['5', '6', '8', '9']\n"
          ]
        }
      ]
    },
    {
      "cell_type": "code",
      "source": [
        "import re\n",
        "txt = \"Hello Planet\"\n",
        "\n",
        "#Check if the String starts with hello\n",
        "\n",
        "x = re.search(\"Hello\",txt)\n",
        "if x:\n",
        "  print(\"\\nYES! We have the Match\")\n",
        "else:\n",
        "  print(\"\\nNo Match Found\")\n"
      ],
      "metadata": {
        "colab": {
          "base_uri": "https://localhost:8080/"
        },
        "id": "E2LZdyaPC-yt",
        "outputId": "55b86eb7-e359-4e31-9140-2fd062523dcb"
      },
      "execution_count": 7,
      "outputs": [
        {
          "output_type": "stream",
          "name": "stdout",
          "text": [
            "\n",
            "YES! We have the Match\n"
          ]
        }
      ]
    },
    {
      "cell_type": "code",
      "source": [
        "import re\n",
        "txt = \"helliamando hello planet\"\n",
        "\n",
        "#Search for a sequence that starts with \"he\" followed by 0 or more characters\n",
        "\n",
        "x = re.findall(\"he.*o\",txt)\n",
        "print(x)"
      ],
      "metadata": {
        "colab": {
          "base_uri": "https://localhost:8080/"
        },
        "id": "l7AePGixEVRW",
        "outputId": "906eb729-3b3d-4edf-aa92-729ce45bf838"
      },
      "execution_count": 9,
      "outputs": [
        {
          "output_type": "stream",
          "name": "stdout",
          "text": [
            "['helliamando hello']\n"
          ]
        }
      ]
    },
    {
      "cell_type": "code",
      "source": [
        "import re\n",
        "txt = \"hello hello planet\"\n",
        "\n",
        "#Search for a sequence that starts with \"he\" followed by 1 or more characters\n",
        "\n",
        "x = re.findall(\"he.+o\",txt)\n",
        "print(x)"
      ],
      "metadata": {
        "colab": {
          "base_uri": "https://localhost:8080/"
        },
        "id": "rvJu1dPQFFau",
        "outputId": "7c9e6a37-6952-4365-e2da-931016763820"
      },
      "execution_count": 10,
      "outputs": [
        {
          "output_type": "stream",
          "name": "stdout",
          "text": [
            "['helliamando hello']\n"
          ]
        }
      ]
    },
    {
      "cell_type": "code",
      "source": [
        "import re\n",
        "\n",
        "#Return a list Containing every  charater \"ai\"\n",
        "\n",
        "txt = \"The rain in Spain\"\n",
        "x = re.findall(\"ai\",txt)\n",
        "print(x)"
      ],
      "metadata": {
        "colab": {
          "base_uri": "https://localhost:8080/"
        },
        "id": "9ymDg21eG5Nw",
        "outputId": "516cd79b-975b-47e7-b500-5bca9d158835"
      },
      "execution_count": 12,
      "outputs": [
        {
          "output_type": "stream",
          "name": "stdout",
          "text": [
            "['ai', 'ai']\n"
          ]
        }
      ]
    },
    {
      "cell_type": "code",
      "source": [
        "import re\n",
        "\n",
        "txt = \"The rain in Spain\"\n",
        "x = re.findall(\"Portugal\",txt)\n",
        "print(x)"
      ],
      "metadata": {
        "colab": {
          "base_uri": "https://localhost:8080/"
        },
        "id": "b9pOksRMHdEe",
        "outputId": "5f1f59f1-201c-43ad-a34d-be237f74e6e3"
      },
      "execution_count": 13,
      "outputs": [
        {
          "output_type": "stream",
          "name": "stdout",
          "text": [
            "[]\n"
          ]
        }
      ]
    },
    {
      "cell_type": "code",
      "source": [
        "import re\n",
        "\n",
        "txt = \"The rain in Spain\"\n",
        "x = re.search(\"\\s\",txt)\n",
        "print(\"The first white space character is located in position: \",x.start())"
      ],
      "metadata": {
        "colab": {
          "base_uri": "https://localhost:8080/"
        },
        "id": "eiut4N-aHf7-",
        "outputId": "0e7bab2f-6e25-4a18-f26d-d41164e1deb1"
      },
      "execution_count": 16,
      "outputs": [
        {
          "output_type": "stream",
          "name": "stdout",
          "text": [
            "The first white space character is located in position:  3\n"
          ]
        }
      ]
    },
    {
      "cell_type": "code",
      "source": [
        "import re\n",
        "\n",
        "txt = \"The rain in Spain\"\n",
        "x = re.search(\"Portugal\",txt)\n",
        "print(x)"
      ],
      "metadata": {
        "colab": {
          "base_uri": "https://localhost:8080/"
        },
        "id": "bHu18VstIW1S",
        "outputId": "25d6e7a8-de5f-42a3-fd4e-c232032a87f9"
      },
      "execution_count": 17,
      "outputs": [
        {
          "output_type": "stream",
          "name": "stdout",
          "text": [
            "None\n"
          ]
        }
      ]
    },
    {
      "cell_type": "code",
      "source": [
        "import re\n",
        "\n",
        "txt = \"The rain in Spain\"\n",
        "x = re.split(\"\\s\",txt)\n",
        "print(x)"
      ],
      "metadata": {
        "colab": {
          "base_uri": "https://localhost:8080/"
        },
        "id": "25g9dJotI1i5",
        "outputId": "c65d193c-0d1e-43e2-84c2-ce7c7444b149"
      },
      "execution_count": 18,
      "outputs": [
        {
          "output_type": "stream",
          "name": "stdout",
          "text": [
            "['The', 'rain', 'in', 'Spain']\n"
          ]
        }
      ]
    },
    {
      "cell_type": "code",
      "source": [
        "#Replace the first two occurence of white space character with thew digit 9\n",
        "\n",
        "import re\n",
        "\n",
        "txt = \"The rain in Spain and RCPIT\"\n",
        "x = re.sub(\"\\s\",\"9\",txt,3)\n",
        "print(x)"
      ],
      "metadata": {
        "colab": {
          "base_uri": "https://localhost:8080/"
        },
        "id": "Uj7HGS1kKy-V",
        "outputId": "111370ba-577b-4a1d-82b4-a3048a147885"
      },
      "execution_count": 19,
      "outputs": [
        {
          "output_type": "stream",
          "name": "stdout",
          "text": [
            "The9rain9in9Spain and RCPIT\n"
          ]
        }
      ]
    },
    {
      "cell_type": "code",
      "source": [
        "#Match Object\n",
        "#A Match Object is an object  contaiing information about the search and the result"
      ],
      "metadata": {
        "id": "ZN-9LfoVLFoV"
      },
      "execution_count": null,
      "outputs": []
    },
    {
      "cell_type": "code",
      "source": [
        "import re\n",
        "\n",
        "txt = \"The rain in Spain\"\n",
        "x = re.search(\"\\s\",txt)\n",
        "print(x) # This will print an Object"
      ],
      "metadata": {
        "colab": {
          "base_uri": "https://localhost:8080/"
        },
        "id": "9tkgiR9-IKW6",
        "outputId": "80258ea5-4a6b-424a-b9fa-0940ece20a0a"
      },
      "execution_count": 20,
      "outputs": [
        {
          "output_type": "stream",
          "name": "stdout",
          "text": [
            "<re.Match object; span=(3, 4), match=' '>\n"
          ]
        }
      ]
    },
    {
      "cell_type": "code",
      "source": [
        "#The match object has properties and methods used to retrieve information about the search about the search and the result\n",
        "#span() returns a tuple containing tne start and the positions of the match\n",
        "#string returns string passed to the function.\n",
        "#group() returns the the part of the string where there was a match"
      ],
      "metadata": {
        "id": "JAfJx0D1L6Gn"
      },
      "execution_count": null,
      "outputs": []
    },
    {
      "cell_type": "code",
      "source": [
        "import re\n",
        "txt = \"The rain in Spain\"\n",
        "x = re.search(r\"\\bS\\w+\",txt)\n",
        "print(x.string)"
      ],
      "metadata": {
        "colab": {
          "base_uri": "https://localhost:8080/"
        },
        "id": "YVCI0HurNPKx",
        "outputId": "6215300a-db3b-43c2-994d-1a959ac7ea56"
      },
      "execution_count": 26,
      "outputs": [
        {
          "output_type": "stream",
          "name": "stdout",
          "text": [
            "The rain in Spain\n"
          ]
        }
      ]
    },
    {
      "cell_type": "code",
      "source": [
        "import re\n",
        "txt = \"The rain in Spain\"\n",
        "\n",
        "#Search for the Upper case letter \"S\" in the beginig of a word, and print the word\n",
        "x = re.search(r\"\\bS\\w+\",txt)\n",
        "print(x.group())"
      ],
      "metadata": {
        "colab": {
          "base_uri": "https://localhost:8080/"
        },
        "id": "4WUsZb8YN3zN",
        "outputId": "43c8ba34-f584-4b63-e6be-ba4227169b92"
      },
      "execution_count": 27,
      "outputs": [
        {
          "output_type": "stream",
          "name": "stdout",
          "text": [
            "Spain\n"
          ]
        }
      ]
    },
    {
      "cell_type": "code",
      "source": [
        "import re\n",
        "str = \"564646467464896764867446846464646 646846 648964 4641646 45646 489464947 755 7457\"\n",
        "x = re.findall(\"[8-9]\",str)\n",
        "print(x)"
      ],
      "metadata": {
        "colab": {
          "base_uri": "https://localhost:8080/"
        },
        "id": "mcK4lKb2Ok6t",
        "outputId": "93a67282-c771-48ad-810e-e313de60b598"
      },
      "execution_count": 29,
      "outputs": [
        {
          "output_type": "stream",
          "name": "stdout",
          "text": [
            "['8', '9', '8', '8', '8', '8', '9', '8', '9', '9']\n"
          ]
        }
      ]
    }
  ]
}