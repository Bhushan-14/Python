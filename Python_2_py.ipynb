{
  "nbformat": 4,
  "nbformat_minor": 0,
  "metadata": {
    "colab": {
      "provenance": [],
      "authorship_tag": "ABX9TyOorUZilAvj7QhXeijMZXWu",
      "include_colab_link": true
    },
    "kernelspec": {
      "name": "python3",
      "display_name": "Python 3"
    },
    "language_info": {
      "name": "python"
    }
  },
  "cells": [
    {
      "cell_type": "markdown",
      "metadata": {
        "id": "view-in-github",
        "colab_type": "text"
      },
      "source": [
        "<a href=\"https://colab.research.google.com/github/Bhushan-14/Python/blob/main/Python_2_py.ipynb\" target=\"_parent\"><img src=\"https://colab.research.google.com/assets/colab-badge.svg\" alt=\"Open In Colab\"/></a>"
      ]
    },
    {
      "cell_type": "code",
      "execution_count": null,
      "metadata": {
        "colab": {
          "base_uri": "https://localhost:8080/"
        },
        "id": "BvaHcC1rpfLe",
        "outputId": "43a562ab-2dd6-4e2c-daff-3dc68935f001"
      },
      "outputs": [
        {
          "output_type": "stream",
          "name": "stdout",
          "text": [
            "Sagar\n"
          ]
        }
      ],
      "source": [
        "print(\"Sagar\")"
      ]
    },
    {
      "cell_type": "code",
      "source": [],
      "metadata": {
        "id": "5_uEL9xdk6GM"
      },
      "execution_count": null,
      "outputs": []
    },
    {
      "cell_type": "code",
      "source": [
        "#Slicing\n",
        "b = \"Hello World\"\n",
        "print(b[2:5])"
      ],
      "metadata": {
        "colab": {
          "base_uri": "https://localhost:8080/"
        },
        "id": "eWD7pLhxqGpl",
        "outputId": "d55739d6-4d3c-44c8-ed87-f37febe62d09"
      },
      "execution_count": null,
      "outputs": [
        {
          "output_type": "stream",
          "name": "stdout",
          "text": [
            "llo\n"
          ]
        }
      ]
    },
    {
      "cell_type": "code",
      "source": [
        "b = \"Hello World\"\n",
        "print(b[3:])"
      ],
      "metadata": {
        "colab": {
          "base_uri": "https://localhost:8080/"
        },
        "id": "x_TJr3HyqzI2",
        "outputId": "104ca982-cb0f-47df-e96e-bd740251477d"
      },
      "execution_count": null,
      "outputs": [
        {
          "output_type": "stream",
          "name": "stdout",
          "text": [
            "lo World\n"
          ]
        }
      ]
    },
    {
      "cell_type": "code",
      "source": [
        "b = \"Hello, World\"\n",
        "print(b[-5:-2])"
      ],
      "metadata": {
        "colab": {
          "base_uri": "https://localhost:8080/"
        },
        "id": "DRQTxJZsrmZ_",
        "outputId": "cbb9776a-dd26-4da7-b342-2b82cfdddc79"
      },
      "execution_count": null,
      "outputs": [
        {
          "output_type": "stream",
          "name": "stdout",
          "text": [
            "Wor\n"
          ]
        }
      ]
    },
    {
      "cell_type": "code",
      "source": [
        "b = \"Hello I am Bhushan\"\n",
        "print(b.upper())"
      ],
      "metadata": {
        "colab": {
          "base_uri": "https://localhost:8080/"
        },
        "id": "HMMtI2wCr8Cn",
        "outputId": "5b6e9133-ff41-4cc0-d396-e967a8caf6a1"
      },
      "execution_count": null,
      "outputs": [
        {
          "output_type": "stream",
          "name": "stdout",
          "text": [
            "HELLO I AM BHUSHAN\n"
          ]
        }
      ]
    },
    {
      "cell_type": "code",
      "source": [
        "b = \"HELLO!!!! Sagar\"\n",
        "print(b.lower())"
      ],
      "metadata": {
        "colab": {
          "base_uri": "https://localhost:8080/"
        },
        "id": "HakNzzZlsSQL",
        "outputId": "141e40aa-52a4-4508-f095-ff02c269e7f5"
      },
      "execution_count": null,
      "outputs": [
        {
          "output_type": "stream",
          "name": "stdout",
          "text": [
            "hello!!!! sagar\n"
          ]
        }
      ]
    },
    {
      "cell_type": "code",
      "source": [
        "b = \"Hello, World!\"\n",
        "print(a.strip())"
      ],
      "metadata": {
        "colab": {
          "base_uri": "https://localhost:8080/"
        },
        "id": "RjkQch3MtX5d",
        "outputId": "0cf74589-034c-4853-85c7-d39fa5a08d1e"
      },
      "execution_count": null,
      "outputs": [
        {
          "output_type": "stream",
          "name": "stdout",
          "text": [
            "Hello\n"
          ]
        }
      ]
    },
    {
      "cell_type": "code",
      "source": [
        "a = \"Hello Sagar\"\n",
        "print(a.replace(\"a\",\"t\"))"
      ],
      "metadata": {
        "colab": {
          "base_uri": "https://localhost:8080/"
        },
        "id": "l3Jr7te8tkMl",
        "outputId": "d7ac366b-916d-432d-f9c9-674bcc7a6d24"
      },
      "execution_count": null,
      "outputs": [
        {
          "output_type": "stream",
          "name": "stdout",
          "text": [
            "Hello Stgtr\n"
          ]
        }
      ]
    },
    {
      "cell_type": "code",
      "source": [
        "a = \"Hello World\"\n",
        "print(a.replace(\"Hel\",\"Bell\"))"
      ],
      "metadata": {
        "colab": {
          "base_uri": "https://localhost:8080/"
        },
        "id": "oZAdmxxJt12U",
        "outputId": "c7ec2dfe-7678-40e1-fe9e-4e0fc729b0cc"
      },
      "execution_count": null,
      "outputs": [
        {
          "output_type": "stream",
          "name": "stdout",
          "text": [
            "Belllo World\n"
          ]
        }
      ]
    },
    {
      "cell_type": "code",
      "source": [
        "a = \"Hello, World, I am, Sagar\"\n",
        "print(a.split(\",\"))"
      ],
      "metadata": {
        "colab": {
          "base_uri": "https://localhost:8080/"
        },
        "id": "UC_v8I8lt_Sl",
        "outputId": "e65175b1-413f-41b5-bfd5-43e39faeab68"
      },
      "execution_count": null,
      "outputs": [
        {
          "output_type": "stream",
          "name": "stdout",
          "text": [
            "['Hello', ' World', ' I am', ' Sagar']\n"
          ]
        }
      ]
    },
    {
      "cell_type": "code",
      "source": [
        "#Concatenate\n",
        "a = \"Hello\"\n",
        "b = \"World\"\n",
        "print(a+b)"
      ],
      "metadata": {
        "colab": {
          "base_uri": "https://localhost:8080/"
        },
        "id": "3uquhPWVvM-t",
        "outputId": "7b6a793d-ec91-4eba-f8d3-79a3426a5621"
      },
      "execution_count": null,
      "outputs": [
        {
          "output_type": "stream",
          "name": "stdout",
          "text": [
            "HelloWorld\n"
          ]
        }
      ]
    },
    {
      "cell_type": "code",
      "source": [
        "a = \"Hello\"\n",
        "b = \"World\"\n",
        "print(a+\" \"+b)"
      ],
      "metadata": {
        "colab": {
          "base_uri": "https://localhost:8080/"
        },
        "id": "AhuM0U6LvVOy",
        "outputId": "98928b90-4d18-40f8-b38b-45e1ddde42ba"
      },
      "execution_count": null,
      "outputs": [
        {
          "output_type": "stream",
          "name": "stdout",
          "text": [
            "Hello World\n"
          ]
        }
      ]
    },
    {
      "cell_type": "code",
      "source": [
        "a = \"Hello\"\n",
        "b = input(\"Enter your Name:\")\n",
        "print(a+\" \"+b)"
      ],
      "metadata": {
        "colab": {
          "base_uri": "https://localhost:8080/"
        },
        "id": "VUprf8YSuVLI",
        "outputId": "a52a5b21-da5b-471e-cb67-26395acfd4f4"
      },
      "execution_count": null,
      "outputs": [
        {
          "output_type": "stream",
          "name": "stdout",
          "text": [
            "Enter your Name:Sagar\n",
            "Hello Sagar\n"
          ]
        }
      ]
    },
    {
      "cell_type": "code",
      "source": [
        "age = str(input(\"Enter your age: \"))\n",
        "b = \"My name is Sagar and I am \"+ age +\" Years old\"\n",
        "print(b)"
      ],
      "metadata": {
        "colab": {
          "base_uri": "https://localhost:8080/"
        },
        "id": "zUtjN_UJvxSE",
        "outputId": "a00ed6cc-b5bc-48b3-c79e-41961a2b5a28"
      },
      "execution_count": null,
      "outputs": [
        {
          "output_type": "stream",
          "name": "stdout",
          "text": [
            "Enter your age: 13\n",
            "My name is Sagar and I am 13 Years old\n"
          ]
        }
      ]
    },
    {
      "cell_type": "code",
      "source": [
        "# Format Methods\n",
        "age = input(\"Enter your age: \")\n",
        "txt = \"My name is Sagar and I am {}\"\n",
        "print(txt.format(age))"
      ],
      "metadata": {
        "colab": {
          "base_uri": "https://localhost:8080/"
        },
        "id": "ZKi-QZfDvG0n",
        "outputId": "38c3f512-b29d-49f7-ebf9-f140f5a90a69"
      },
      "execution_count": null,
      "outputs": [
        {
          "output_type": "stream",
          "name": "stdout",
          "text": [
            "Enter your age: 342\n",
            "My name is Sagar and I am 342\n"
          ]
        }
      ]
    },
    {
      "cell_type": "code",
      "source": [
        "qun = 23\n",
        "itm_no = 123\n",
        "price = 2000.00\n",
        "my_order = \"I want {} items which have iten number {} and price {}$.\"\n",
        "print(my_order.format(qun,itm_no,price))"
      ],
      "metadata": {
        "colab": {
          "base_uri": "https://localhost:8080/"
        },
        "id": "8Q9UiP2lxYvx",
        "outputId": "8becc01d-be26-441b-d8b2-01db9e1720d5"
      },
      "execution_count": null,
      "outputs": [
        {
          "output_type": "stream",
          "name": "stdout",
          "text": [
            "I want 23 items which have iten number 123 and price 2000.0$.\n"
          ]
        }
      ]
    },
    {
      "cell_type": "code",
      "source": [
        "#Format Method with Values\n",
        "qun = 23\n",
        "itm_no = 123\n",
        "price = 2000.00\n",
        "my_order = \"I want {2} items which have iten number {0} and price {1} $.\"\n",
        "print(my_order.format(qun,itm_no,price))\n"
      ],
      "metadata": {
        "colab": {
          "base_uri": "https://localhost:8080/"
        },
        "id": "QhHmpQgKxF5s",
        "outputId": "0f70fa18-3e03-407d-cf52-1979da2eb24c"
      },
      "execution_count": null,
      "outputs": [
        {
          "output_type": "stream",
          "name": "stdout",
          "text": [
            "I want 2000.0 items which have iten number 23 and price 123 $.\n"
          ]
        }
      ]
    },
    {
      "cell_type": "code",
      "source": [
        "#String Methods\n",
        "name = \"Sagar\"\n",
        "print(name.capitalize())\n",
        "#there are many methods which we can perform on String which are built-in Methods"
      ],
      "metadata": {
        "colab": {
          "base_uri": "https://localhost:8080/"
        },
        "id": "00MhXQ_ry9jI",
        "outputId": "4ff37a70-ba36-45d7-9d23-f7f61ea0921d"
      },
      "execution_count": null,
      "outputs": [
        {
          "output_type": "stream",
          "name": "stdout",
          "text": [
            "Sagar\n"
          ]
        }
      ]
    },
    {
      "cell_type": "code",
      "source": [
        "#Python Operators\n",
        "#operators are used to perform operations on variables and values\n",
        "#python divides the operators in following group\n",
        "#1.Arithmetic Operators\n",
        "#2.Assignment Operators\n",
        "#3.Comparision Operators\n",
        "#4.Comaparator Operators\n",
        "#5.Logical Operators\n",
        "#6.Identity Operators\n",
        "#7.Membership Operators\n",
        "#8.Bitwise Operators"
      ],
      "metadata": {
        "id": "fkRL7C0RzkUu"
      },
      "execution_count": null,
      "outputs": []
    },
    {
      "cell_type": "code",
      "source": [
        "#Arithmetic Operators\n",
        "\n",
        "x = 19\n",
        "y = 4\n",
        "\n",
        "#Addition\n",
        "print(x + y)\n",
        "\n",
        "#Subtration\n",
        "print(x - y)\n",
        "\n",
        "#Multiplication\n",
        "print(x * y)\n",
        "\n",
        "#Division\n",
        "print(x / y)\n",
        "\n",
        "#Modulus\n",
        "print(x % y)\n",
        "\n",
        "#power(x^y)\n",
        "print(x ** y)\n",
        "\n",
        "#Floor Division(Give nearest rounded whole number)\n",
        "print(x // y)\n",
        "\n"
      ],
      "metadata": {
        "colab": {
          "base_uri": "https://localhost:8080/"
        },
        "id": "jOB2YdCPzbCe",
        "outputId": "341b5836-b9ab-4155-a139-ad3aee4a0fcc"
      },
      "execution_count": null,
      "outputs": [
        {
          "output_type": "stream",
          "name": "stdout",
          "text": [
            "23\n",
            "15\n",
            "76\n",
            "4.75\n",
            "3\n",
            "130321\n",
            "4\n"
          ]
        }
      ]
    },
    {
      "cell_type": "code",
      "source": [
        "#Assignment Operators('=')\n"
      ],
      "metadata": {
        "id": "2tF5WooW1aPk"
      },
      "execution_count": null,
      "outputs": []
    },
    {
      "cell_type": "code",
      "source": [
        "#Comparative Operators(>,<,!=)\n",
        "#( > => Greater than)\n",
        "#( < => less than)\n",
        "#( >= => Greater than equal to)\n",
        "#( <= => less than equal to)\n",
        "#( == => Equal to )\n",
        "#( != => not equal to)\n",
        "\n",
        "x = 5\n",
        "print(x > 3 and x < 10)\n",
        "\n",
        "a = 12\n",
        "b = 13\n",
        "print(a==b)\n"
      ],
      "metadata": {
        "colab": {
          "base_uri": "https://localhost:8080/"
        },
        "id": "uA4eyZw01tGs",
        "outputId": "34c75863-ebde-4b01-9717-69396ccfc754"
      },
      "execution_count": null,
      "outputs": [
        {
          "output_type": "stream",
          "name": "stdout",
          "text": [
            "True\n",
            "False\n"
          ]
        }
      ]
    },
    {
      "cell_type": "code",
      "source": [
        "num1 = int(input(\"Enter a value of num1: \"))\n",
        "num2 = int(input(\"Enter a value of num2: \"))\n",
        "if(num1 == num2):\n",
        "  print(\"num1 is equal to num2\")\n",
        "elif(num1 > num2):\n",
        "  print(\"num1 is greater than num2\")\n",
        "else:\n",
        "  print(\"num2 is greater than num1\")"
      ],
      "metadata": {
        "colab": {
          "base_uri": "https://localhost:8080/"
        },
        "id": "8-97_Q_75YPB",
        "outputId": "651e1b44-8df3-4fb6-ec21-dbe177280927"
      },
      "execution_count": null,
      "outputs": [
        {
          "output_type": "stream",
          "name": "stdout",
          "text": [
            "Enter a value of num1: 76\n",
            "Enter a value of num2: 876\n",
            "num2 is greater than num1\n"
          ]
        }
      ]
    },
    {
      "cell_type": "code",
      "source": [
        "num1 = int(input(\"Enter a value of num1: \"))\n",
        "num2 = int(input(\"Enter a value of num2: \"))\n",
        "num3 = int(input(\"Enter a value of num: \"))\n",
        "if(num1 == num2 == num3):\n",
        "  print(\"All the numbers are equal\")\n",
        "elif(num1 > num2 and num1 > num3):\n",
        "  print(\"Num1 is greater than Num2 and Num3\")\n",
        "elif(num2 > num1 and num2 > num3):\n",
        "  print(\"Num2 is greater than Num1 and Num3\")\n",
        "else:\n",
        "  print(\"Num3 is greater than Num1 and Num2\")"
      ],
      "metadata": {
        "colab": {
          "base_uri": "https://localhost:8080/"
        },
        "id": "f0QEZyo07wQX",
        "outputId": "450246d1-3ff2-4373-e556-32d3fe7910f7"
      },
      "execution_count": null,
      "outputs": [
        {
          "output_type": "stream",
          "name": "stdout",
          "text": [
            "Enter a value of num1: 243\n",
            "Enter a value of num2: 3\n",
            "Enter a value of num: 32\n",
            "Num1 is greater than Num2 and Num3\n"
          ]
        }
      ]
    },
    {
      "cell_type": "code",
      "source": [
        "a = 220\n",
        "b = 324\n",
        "print(\"a\") if a > b else print(\"b\")"
      ],
      "metadata": {
        "colab": {
          "base_uri": "https://localhost:8080/"
        },
        "id": "Mq4YHZnv82MF",
        "outputId": "d07aba78-4b58-48f0-fdcf-824ad49cb3e3"
      },
      "execution_count": null,
      "outputs": [
        {
          "output_type": "stream",
          "name": "stdout",
          "text": [
            "b\n"
          ]
        }
      ]
    },
    {
      "cell_type": "code",
      "source": [
        "#AND operator\n",
        "a = 221\n",
        "b = 33\n",
        "c = 352\n",
        "if a > b and c > a:\n",
        "  print(\"Both Conditions are true\")"
      ],
      "metadata": {
        "colab": {
          "base_uri": "https://localhost:8080/"
        },
        "id": "VvxkwPXz7qbP",
        "outputId": "22e0e172-cd68-4060-b306-ac7fa75e698d"
      },
      "execution_count": null,
      "outputs": [
        {
          "output_type": "stream",
          "name": "stdout",
          "text": [
            "Both Conditions are true\n"
          ]
        }
      ]
    },
    {
      "cell_type": "code",
      "source": [
        "#OR operator\n",
        "a = 12\n",
        "b = 2\n",
        "c = 1\n",
        "if a > b or c > b:\n",
        "  print(\"One of the Conditions are true\")"
      ],
      "metadata": {
        "colab": {
          "base_uri": "https://localhost:8080/"
        },
        "id": "lvilfEzu9byU",
        "outputId": "2117b4b7-b86f-4644-ac27-340b6634dd0b"
      },
      "execution_count": null,
      "outputs": [
        {
          "output_type": "stream",
          "name": "stdout",
          "text": [
            "One of the Conditions are true\n"
          ]
        }
      ]
    },
    {
      "cell_type": "code",
      "source": [
        "x = 41\n",
        "if x > 10:\n",
        "  print(\"X is greater than 10\")\n",
        "  if x > 20:\n",
        "    print(\"X is also grater than 20\")\n",
        "else:\n",
        "  print(\"X is greater than 41\")"
      ],
      "metadata": {
        "colab": {
          "base_uri": "https://localhost:8080/"
        },
        "id": "kgQ5-6OP9uxH",
        "outputId": "dc0243e9-c1ed-4236-a68d-1e11d97065a0"
      },
      "execution_count": null,
      "outputs": [
        {
          "output_type": "stream",
          "name": "stdout",
          "text": [
            "X is greater than 10\n",
            "X is also grater than 20\n"
          ]
        }
      ]
    },
    {
      "cell_type": "code",
      "source": [
        "#identity operator\n",
        "#it use to compare the objects\n",
        "a = [\"Apple\",\"Mango\"]\n",
        "b = [\"Apple\",\"Mango\"]\n",
        "c = a\n",
        "print(a is c)\n",
        "print(a==c)\n",
        "\n",
        "print(b is c)\n",
        "\n",
        "print(b is a)"
      ],
      "metadata": {
        "colab": {
          "base_uri": "https://localhost:8080/"
        },
        "id": "cZ3Z2WD22tG0",
        "outputId": "d3061c3d-1bc9-421e-f367-8462fff2d73a"
      },
      "execution_count": null,
      "outputs": [
        {
          "output_type": "stream",
          "name": "stdout",
          "text": [
            "True\n",
            "True\n",
            "False\n",
            "False\n"
          ]
        }
      ]
    },
    {
      "cell_type": "code",
      "source": [
        "a = [\"Apple\",\"Mango\"]\n",
        "b = [\"Apple\",\"Mango\"]\n",
        "c = a\n",
        "print(a is not c)\n",
        "\n",
        "print(a is not b)\n",
        "\n",
        "print(b is a)"
      ],
      "metadata": {
        "colab": {
          "base_uri": "https://localhost:8080/"
        },
        "id": "MnSHO4mC2r2k",
        "outputId": "444eecbd-2a18-48f5-9a06-8393b995a004"
      },
      "execution_count": null,
      "outputs": [
        {
          "output_type": "stream",
          "name": "stdout",
          "text": [
            "False\n",
            "True\n",
            "False\n"
          ]
        }
      ]
    },
    {
      "cell_type": "code",
      "source": [
        "#Bitwise Operator\n",
        "#( && => Logical AND)\n",
        "#( || => Logial OR)\n",
        "#( >> => Right Shift)\n",
        "#( << => Left Shift)\n"
      ],
      "metadata": {
        "id": "FL_Dj-FP4k26"
      },
      "execution_count": null,
      "outputs": []
    },
    {
      "cell_type": "code",
      "source": [
        "#Python Loops\n",
        "#Python has two primitive commands for loop\n",
        "#1.While Loop\n",
        "#2.For Loop"
      ],
      "metadata": {
        "id": "psN1ES5T43y5"
      },
      "execution_count": null,
      "outputs": []
    },
    {
      "cell_type": "code",
      "source": [
        "#1.While Loop\n",
        "i = 1\n",
        "while i<6:\n",
        "  print(i)\n",
        "  i = i+1"
      ],
      "metadata": {
        "colab": {
          "base_uri": "https://localhost:8080/"
        },
        "id": "M_BiSdV5-iYa",
        "outputId": "8998b936-063d-40cf-f2c1-c319ee4f43cd"
      },
      "execution_count": null,
      "outputs": [
        {
          "output_type": "stream",
          "name": "stdout",
          "text": [
            "1\n",
            "2\n",
            "3\n",
            "4\n",
            "5\n"
          ]
        }
      ]
    },
    {
      "cell_type": "code",
      "source": [
        "i = 1\n",
        "while i < 6:\n",
        "  print(i)\n",
        "  if i == 3:\n",
        "    break\n",
        "  i += 1\n"
      ],
      "metadata": {
        "colab": {
          "base_uri": "https://localhost:8080/"
        },
        "id": "1M31lDh---AL",
        "outputId": "c53f75f2-a938-49ce-814d-66fe23cfa50b"
      },
      "execution_count": null,
      "outputs": [
        {
          "output_type": "stream",
          "name": "stdout",
          "text": [
            "1\n",
            "2\n",
            "3\n"
          ]
        }
      ]
    },
    {
      "cell_type": "code",
      "source": [
        "i = 1\n",
        "while i < 6:\n",
        "  i += 1\n",
        "  if i == 3:\n",
        "    continue\n",
        "  print(i)"
      ],
      "metadata": {
        "colab": {
          "base_uri": "https://localhost:8080/"
        },
        "id": "8x6vkkvj434s",
        "outputId": "3bc460b5-c5b5-4d9c-f4e4-dca9b029ecb8"
      },
      "execution_count": null,
      "outputs": [
        {
          "output_type": "stream",
          "name": "stdout",
          "text": [
            "2\n",
            "4\n",
            "5\n",
            "6\n"
          ]
        }
      ]
    },
    {
      "cell_type": "code",
      "source": [
        "i = 1\n",
        "while i < 6:\n",
        "  print(i)\n",
        "  i += 1\n",
        "else:\n",
        "  print(\"i is no longer than 6\")"
      ],
      "metadata": {
        "colab": {
          "base_uri": "https://localhost:8080/"
        },
        "id": "L2yYOkAH_iiX",
        "outputId": "afec752c-7c17-4b2d-8a2d-2257eca72cc9"
      },
      "execution_count": null,
      "outputs": [
        {
          "output_type": "stream",
          "name": "stdout",
          "text": [
            "1\n",
            "2\n",
            "3\n",
            "4\n",
            "5\n",
            "i is no longer than 6\n"
          ]
        }
      ]
    }
  ]
}