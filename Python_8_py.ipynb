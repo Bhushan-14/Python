{
  "nbformat": 4,
  "nbformat_minor": 0,
  "metadata": {
    "colab": {
      "provenance": [],
      "authorship_tag": "ABX9TyO5lEyIYL3/Pa4l6YVpD+2h",
      "include_colab_link": true
    },
    "kernelspec": {
      "name": "python3",
      "display_name": "Python 3"
    },
    "language_info": {
      "name": "python"
    }
  },
  "cells": [
    {
      "cell_type": "markdown",
      "metadata": {
        "id": "view-in-github",
        "colab_type": "text"
      },
      "source": [
        "<a href=\"https://colab.research.google.com/github/Bhushan-14/Python/blob/main/Python_8_py.ipynb\" target=\"_parent\"><img src=\"https://colab.research.google.com/assets/colab-badge.svg\" alt=\"Open In Colab\"/></a>"
      ]
    },
    {
      "cell_type": "code",
      "execution_count": null,
      "metadata": {
        "id": "zMDPNAQxIDfr"
      },
      "outputs": [],
      "source": [
        "#In python there are teo types of errors: 1) Syntax Error 2) Exception\n",
        "#Errors are problems in a program due to which execution of program will stop\n",
        "#On the other hand, Exceptions are raised when some internal events occur which change normal flow of program"
      ]
    },
    {
      "cell_type": "code",
      "source": [
        "#Different types of Exeptions in pythons:\n",
        "#In python there are several built-in exception that can be raised when an error occurs during the execution of a program\n",
        "#1) Syntax Error\n",
        "#2) Type Error\n",
        "#3) Name Error\n",
        "#4) Index Error\n",
        "#5) Key Error\n",
        "#6) Value Error\n",
        "#7) Attribute Error\n",
        "#8) IO Error\n",
        "#9) Zero Division Error\n",
        "#10) Import Error"
      ],
      "metadata": {
        "id": "DrtHPMPII-Ti"
      },
      "execution_count": null,
      "outputs": []
    },
    {
      "cell_type": "code",
      "source": [
        "#Exception Handling\n",
        "\n",
        "print(\"Start\")\n",
        "x = 0\n",
        "result = 10/x\n",
        "print(result)\n",
        "print(\"End\")"
      ],
      "metadata": {
        "colab": {
          "base_uri": "https://localhost:8080/",
          "height": 262
        },
        "id": "8c6GC4PNKOH5",
        "outputId": "0c7433fa-5011-404a-9375-bd3731625a64"
      },
      "execution_count": null,
      "outputs": [
        {
          "output_type": "stream",
          "name": "stdout",
          "text": [
            "Start\n"
          ]
        },
        {
          "output_type": "error",
          "ename": "ZeroDivisionError",
          "evalue": "ignored",
          "traceback": [
            "\u001b[0;31m---------------------------------------------------------------------------\u001b[0m",
            "\u001b[0;31mZeroDivisionError\u001b[0m                         Traceback (most recent call last)",
            "\u001b[0;32m<ipython-input-1-adfed5cb673b>\u001b[0m in \u001b[0;36m<cell line: 5>\u001b[0;34m()\u001b[0m\n\u001b[1;32m      3\u001b[0m \u001b[0mprint\u001b[0m\u001b[0;34m(\u001b[0m\u001b[0;34m\"Start\"\u001b[0m\u001b[0;34m)\u001b[0m\u001b[0;34m\u001b[0m\u001b[0;34m\u001b[0m\u001b[0m\n\u001b[1;32m      4\u001b[0m \u001b[0mx\u001b[0m \u001b[0;34m=\u001b[0m \u001b[0;36m0\u001b[0m\u001b[0;34m\u001b[0m\u001b[0;34m\u001b[0m\u001b[0m\n\u001b[0;32m----> 5\u001b[0;31m \u001b[0mresult\u001b[0m \u001b[0;34m=\u001b[0m \u001b[0;36m10\u001b[0m\u001b[0;34m/\u001b[0m\u001b[0mx\u001b[0m\u001b[0;34m\u001b[0m\u001b[0;34m\u001b[0m\u001b[0m\n\u001b[0m\u001b[1;32m      6\u001b[0m \u001b[0mprint\u001b[0m\u001b[0;34m(\u001b[0m\u001b[0mresult\u001b[0m\u001b[0;34m)\u001b[0m\u001b[0;34m\u001b[0m\u001b[0;34m\u001b[0m\u001b[0m\n\u001b[1;32m      7\u001b[0m \u001b[0mprint\u001b[0m\u001b[0;34m(\u001b[0m\u001b[0;34m\"End\"\u001b[0m\u001b[0;34m)\u001b[0m\u001b[0;34m\u001b[0m\u001b[0;34m\u001b[0m\u001b[0m\n",
            "\u001b[0;31mZeroDivisionError\u001b[0m: division by zero"
          ]
        }
      ]
    },
    {
      "cell_type": "code",
      "source": [
        "print(\"Start\")\n",
        "x = 0\n",
        "try:\n",
        "  result = 10/x\n",
        "  print(result)\n",
        "\n",
        "except ZeroDivisionError:\n",
        "  print(\"Can't Divide by zero\")\n",
        "\n",
        "print(\"End\")"
      ],
      "metadata": {
        "colab": {
          "base_uri": "https://localhost:8080/"
        },
        "id": "1dntlJRTKtgX",
        "outputId": "2fccb8d8-0d64-401a-c8a7-83a75f18d659"
      },
      "execution_count": null,
      "outputs": [
        {
          "output_type": "stream",
          "name": "stdout",
          "text": [
            "Start\n",
            "Can't Divide by zero\n",
            "End\n"
          ]
        }
      ]
    },
    {
      "cell_type": "code",
      "source": [
        "print(\"Start\")\n",
        "x = 1\n",
        "l1 = [2,4,6,8]\n",
        "try:\n",
        "  result = 10 / x\n",
        "  try:\n",
        "    print(l1[4])\n",
        "  except IndexError as ex:\n",
        "    print(ex)\n",
        "  print(result)\n",
        "except ZeroDivisionError :\n",
        "  print(\"Cant Divide by zero\")\n",
        "print(\"End\")"
      ],
      "metadata": {
        "colab": {
          "base_uri": "https://localhost:8080/"
        },
        "id": "0XpbiU-WLsXi",
        "outputId": "6a894faf-4856-4409-9b2e-2761fec28df7"
      },
      "execution_count": null,
      "outputs": [
        {
          "output_type": "stream",
          "name": "stdout",
          "text": [
            "Start\n",
            "list index out of range\n",
            "10.0\n",
            "End\n"
          ]
        }
      ]
    },
    {
      "cell_type": "code",
      "source": [
        "print(\"Start\")\n",
        "x = 0\n",
        "l1 = [2,4,6,8]\n",
        "try:\n",
        "  result = 10 / x\n",
        "  print(l1[4])\n",
        "  print(result)\n",
        "except ZeroDivisionError :\n",
        "  print(\"Cant Divide by zero\")\n",
        "except IndexError as ex:\n",
        "  print(ex)\n",
        "print(\"End\")"
      ],
      "metadata": {
        "colab": {
          "base_uri": "https://localhost:8080/"
        },
        "id": "2ov0gr6hLBA4",
        "outputId": "1148c18f-ae47-4814-e0d5-8142ef50db67"
      },
      "execution_count": null,
      "outputs": [
        {
          "output_type": "stream",
          "name": "stdout",
          "text": [
            "Start\n",
            "Cant Divide by zero\n",
            "End\n"
          ]
        }
      ]
    },
    {
      "cell_type": "code",
      "source": [
        "print(\"Start\")\n",
        "x = 0\n",
        "l1 = [2,4,6,8]\n",
        "try:\n",
        "  result = 10 / x\n",
        "  print(l1[4])\n",
        "  print(result)\n",
        "except (ZeroDivisionError, IndexError) as ex:\n",
        "  print(ex)\n",
        "print(\"End\")"
      ],
      "metadata": {
        "colab": {
          "base_uri": "https://localhost:8080/"
        },
        "id": "v9occShANw6o",
        "outputId": "9f01d79d-9075-4703-f760-0fa75161b570"
      },
      "execution_count": null,
      "outputs": [
        {
          "output_type": "stream",
          "name": "stdout",
          "text": [
            "Start\n",
            "division by zero\n",
            "End\n"
          ]
        }
      ]
    },
    {
      "cell_type": "code",
      "source": [
        "#Finally block is executed in any condition\n",
        "print(\"Start\")\n",
        "x = 0\n",
        "l1 = [2,4,6,8]\n",
        "try:\n",
        "  result = 10 / x\n",
        "  print(l1[4])\n",
        "  print(result)\n",
        "except Exception as ex:\n",
        "  print(ex)\n",
        "finally:\n",
        "  print(\"Thank you!!!!!!\")\n",
        "print(\"End\")"
      ],
      "metadata": {
        "colab": {
          "base_uri": "https://localhost:8080/"
        },
        "id": "RJAW5NG4Og-G",
        "outputId": "acf5e558-db1d-4ee1-a5ce-82be3d15ca02"
      },
      "execution_count": null,
      "outputs": [
        {
          "output_type": "stream",
          "name": "stdout",
          "text": [
            "Start\n",
            "division by zero\n",
            "Finally Block is Executed\n",
            "End\n"
          ]
        }
      ]
    },
    {
      "cell_type": "code",
      "source": [
        "print(\"Start\")\n",
        "x = 0\n",
        "l1 = [2,4,6,8]\n",
        "try:\n",
        "  result = 10 / x\n",
        "  print(l1[4])\n",
        "  print(result)\n",
        "except Exception as ex:\n",
        "  print(ex)\n",
        "else:\n",
        "  print(\"Else block \")\n",
        "\n",
        "#Finally block is executed compulsory\n",
        "finally:\n",
        "  print(\"Thank you!!!!!!\")\n",
        "print(\"End\")"
      ],
      "metadata": {
        "colab": {
          "base_uri": "https://localhost:8080/"
        },
        "id": "MOxqbTTPPQHd",
        "outputId": "99bf6e47-049e-40a5-e790-4acd4f390000"
      },
      "execution_count": null,
      "outputs": [
        {
          "output_type": "stream",
          "name": "stdout",
          "text": [
            "Start\n",
            "division by zero\n",
            "Finally Block is Executed\n",
            "End\n"
          ]
        }
      ]
    },
    {
      "cell_type": "code",
      "source": [
        "print(\"Start\")\n",
        "x = 2\n",
        "l1 = [2,4,6,8]\n",
        "try:\n",
        "  result = 10 / x\n",
        "  print(l1[3])\n",
        "  print(result)\n",
        "finally:\n",
        "  print(\"Thank you!!!!!!\")\n",
        "print(\"End\")"
      ],
      "metadata": {
        "colab": {
          "base_uri": "https://localhost:8080/"
        },
        "id": "agNou6c9N949",
        "outputId": "79bd6148-e5a8-4299-9a78-453879b11307"
      },
      "execution_count": null,
      "outputs": [
        {
          "output_type": "stream",
          "name": "stdout",
          "text": [
            "Start\n",
            "8\n",
            "5.0\n",
            "Finally Block is Executed\n",
            "End\n"
          ]
        }
      ]
    },
    {
      "cell_type": "code",
      "source": [
        "#Type Error\n",
        "x = 5\n",
        "y = \"Sagar\"\n",
        "print(x+y)"
      ],
      "metadata": {
        "colab": {
          "base_uri": "https://localhost:8080/",
          "height": 210
        },
        "id": "JISl0hGXQsdj",
        "outputId": "8a2fc31c-044e-431a-e7a6-d2892831ec0e"
      },
      "execution_count": null,
      "outputs": [
        {
          "output_type": "error",
          "ename": "TypeError",
          "evalue": "ignored",
          "traceback": [
            "\u001b[0;31m---------------------------------------------------------------------------\u001b[0m",
            "\u001b[0;31mTypeError\u001b[0m                                 Traceback (most recent call last)",
            "\u001b[0;32m<ipython-input-18-9781796da307>\u001b[0m in \u001b[0;36m<cell line: 4>\u001b[0;34m()\u001b[0m\n\u001b[1;32m      2\u001b[0m \u001b[0mx\u001b[0m \u001b[0;34m=\u001b[0m \u001b[0;36m5\u001b[0m\u001b[0;34m\u001b[0m\u001b[0;34m\u001b[0m\u001b[0m\n\u001b[1;32m      3\u001b[0m \u001b[0my\u001b[0m \u001b[0;34m=\u001b[0m \u001b[0;34m\"Sagar\"\u001b[0m\u001b[0;34m\u001b[0m\u001b[0;34m\u001b[0m\u001b[0m\n\u001b[0;32m----> 4\u001b[0;31m \u001b[0mprint\u001b[0m\u001b[0;34m(\u001b[0m\u001b[0mx\u001b[0m\u001b[0;34m+\u001b[0m\u001b[0my\u001b[0m\u001b[0;34m)\u001b[0m\u001b[0;34m\u001b[0m\u001b[0;34m\u001b[0m\u001b[0m\n\u001b[0m",
            "\u001b[0;31mTypeError\u001b[0m: unsupported operand type(s) for +: 'int' and 'str'"
          ]
        }
      ]
    },
    {
      "cell_type": "code",
      "source": [
        "#The try block test the block of code for errors.\n",
        "#The except block hadle the error\n",
        "#The else block execute when there is a no error\n",
        "#The finally block execute the code regardless of result of the try and excepts blocks"
      ],
      "metadata": {
        "id": "BRE_sMfiRBwK"
      },
      "execution_count": null,
      "outputs": []
    },
    {
      "cell_type": "code",
      "source": [],
      "metadata": {
        "id": "0AFRCfK_Rlzi"
      },
      "execution_count": null,
      "outputs": []
    }
  ]
}