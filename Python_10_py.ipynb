{
  "nbformat": 4,
  "nbformat_minor": 0,
  "metadata": {
    "colab": {
      "provenance": [],
      "authorship_tag": "ABX9TyOmaZIHsxpfu8bykQpc4l1i",
      "include_colab_link": true
    },
    "kernelspec": {
      "name": "python3",
      "display_name": "Python 3"
    },
    "language_info": {
      "name": "python"
    }
  },
  "cells": [
    {
      "cell_type": "markdown",
      "metadata": {
        "id": "view-in-github",
        "colab_type": "text"
      },
      "source": [
        "<a href=\"https://colab.research.google.com/github/Bhushan-14/Python/blob/main/Python_10_py.ipynb\" target=\"_parent\"><img src=\"https://colab.research.google.com/assets/colab-badge.svg\" alt=\"Open In Colab\"/></a>"
      ]
    },
    {
      "cell_type": "code",
      "execution_count": null,
      "metadata": {
        "id": "FsbDDpJxQJKM"
      },
      "outputs": [],
      "source": [
        "#Python OS module\n",
        "#Python OS Module  provides the facility to establish the interaction between the user and the operating system.\n",
        "#It offers many useful OS functions that are used to perform OS functions that are used to perform OS-based tasks and the related information about OS\n",
        "#OS comes under python's standard utility modules. This module offers a portable way of using OS dependemt functionality."
      ]
    },
    {
      "cell_type": "code",
      "source": [
        "import  os\n",
        "print(os.name)"
      ],
      "metadata": {
        "colab": {
          "base_uri": "https://localhost:8080/"
        },
        "id": "29njCfFbRN0d",
        "outputId": "29d4b75b-28e9-48b3-9e51-a69d7b7a6fc3"
      },
      "execution_count": null,
      "outputs": [
        {
          "output_type": "stream",
          "name": "stdout",
          "text": [
            "posix\n"
          ]
        }
      ]
    },
    {
      "cell_type": "code",
      "source": [
        "import os\n",
        "os.mkdir(\"Sagar\")"
      ],
      "metadata": {
        "id": "duzvKYgaRW6E"
      },
      "execution_count": 50,
      "outputs": []
    },
    {
      "cell_type": "code",
      "source": [
        "print(os.mkdir)"
      ],
      "metadata": {
        "colab": {
          "base_uri": "https://localhost:8080/"
        },
        "id": "jdAOAktPRvkf",
        "outputId": "efe63b22-9db6-4c15-d8d6-e5f5c56a783b"
      },
      "execution_count": 51,
      "outputs": [
        {
          "output_type": "stream",
          "name": "stdout",
          "text": [
            "<built-in function mkdir>\n"
          ]
        }
      ]
    },
    {
      "cell_type": "code",
      "source": [
        "import os\n",
        "print(os.getcwd())"
      ],
      "metadata": {
        "colab": {
          "base_uri": "https://localhost:8080/"
        },
        "id": "x0Qb__ZPR3fa",
        "outputId": "f108228a-5250-4194-df92-32b1695587dc"
      },
      "execution_count": 52,
      "outputs": [
        {
          "output_type": "stream",
          "name": "stdout",
          "text": [
            "/content\n"
          ]
        }
      ]
    },
    {
      "cell_type": "code",
      "source": [
        "import os\n",
        "print(os.chdir(\"Sagar\"))"
      ],
      "metadata": {
        "colab": {
          "base_uri": "https://localhost:8080/"
        },
        "id": "nJCKEcPFSUhR",
        "outputId": "e20aec4c-a007-4d14-e3c5-8867e40f1c2d"
      },
      "execution_count": 53,
      "outputs": [
        {
          "output_type": "stream",
          "name": "stdout",
          "text": [
            "None\n"
          ]
        }
      ]
    },
    {
      "cell_type": "code",
      "source": [
        "import os\n",
        "try:\n",
        "  #If file doesnot exist it throws IOError\n",
        "  filename = \"Python.txt\"\n",
        "  f = open(filename,\"rU\")\n",
        "  text = f.read()\n",
        "  f.close()\n",
        "\n",
        "#Control statement dirctly jumps here if any line throws an error\n",
        "except IOError:\n",
        "  #print(os.error) will <Class 'OSError'>\n",
        "  print(\"Problem Reading: \"+ filename)"
      ],
      "metadata": {
        "colab": {
          "base_uri": "https://localhost:8080/"
        },
        "id": "wtbcFl38SdiK",
        "outputId": "786ec0cb-ac0b-4753-ffd6-005eccf5e47f"
      },
      "execution_count": null,
      "outputs": [
        {
          "output_type": "stream",
          "name": "stdout",
          "text": [
            "Problem Reading: Python.txt\n"
          ]
        },
        {
          "output_type": "stream",
          "name": "stderr",
          "text": [
            "<ipython-input-16-8ed9863b0380>:5: DeprecationWarning: 'U' mode is deprecated\n",
            "  f = open(filename,\"rU\")\n"
          ]
        }
      ]
    },
    {
      "cell_type": "code",
      "source": [
        "#os.popen()\n",
        "\n",
        "import os\n",
        "#fd = \"Python.txt\"\n",
        "\n",
        "#popen is similar to open()\n",
        "f = open(\"C:\\Sagar\\Python.txt\",\"w\")\n",
        "f.write(\"This is Open\")\n",
        "f = open(\"C:\\Sagar\\Python.txt\",\"w\")\n",
        "f.close()\n"
      ],
      "metadata": {
        "id": "OmObQbUHTqPI"
      },
      "execution_count": null,
      "outputs": []
    },
    {
      "cell_type": "code",
      "source": [
        "#Read and Write data from text file\n",
        "#'r' or 'rt' : read : default mode 'w' or 'wt' : write : if files exist : override, if file not exists : create 'a' or 'at' : append : if file the exists : append,\n",
        "# if file does not exists : create 'r+' or 'rt+' : read and write 'a+' or 'at+' : append and read 'x' : Create file if not exist 't' : text mode 'b' : binary mode '+' : read and write mode\n",
        ""
      ],
      "metadata": {
        "id": "wX1iJ1hTU_uz"
      },
      "execution_count": null,
      "outputs": []
    },
    {
      "cell_type": "code",
      "source": [
        "f = open(\"C:\\Sagar\\Python.txt\",\"w+\")\n",
        "print(f.name)\n",
        "print(f.mode)\n",
        "print(f.readable())\n",
        "print(f.writable())\n",
        "print(f.closed)\n",
        "f.close()\n",
        "print(f.closed)"
      ],
      "metadata": {
        "colab": {
          "base_uri": "https://localhost:8080/"
        },
        "id": "28DKHlNcWWbZ",
        "outputId": "efceb16a-78cf-411e-ef52-8dc88b2bd6db"
      },
      "execution_count": 57,
      "outputs": [
        {
          "output_type": "stream",
          "name": "stdout",
          "text": [
            "C:\\Sagar\\Python.txt\n",
            "w+\n",
            "True\n",
            "True\n",
            "False\n",
            "True\n"
          ]
        }
      ]
    },
    {
      "cell_type": "markdown",
      "source": [],
      "metadata": {
        "id": "YCYZNqD_bFaf"
      }
    },
    {
      "cell_type": "code",
      "source": [
        "f = open(\"C:\\Sagar\\Python.txt\",\"w+\")\n",
        "f.write(\"Hello I am Sagar Birhade from Lauki Pada\")\n",
        "f.write(\"\\nNear Asguard City\")\n",
        "f.close()"
      ],
      "metadata": {
        "id": "P5N9i8jeXK81"
      },
      "execution_count": 65,
      "outputs": []
    },
    {
      "cell_type": "code",
      "source": [
        "f = open(\"C:\\Sagar\\Python.txt\",\"r\")\n",
        "print(f.read())\n",
        "f.close()"
      ],
      "metadata": {
        "colab": {
          "base_uri": "https://localhost:8080/"
        },
        "id": "io27l0upXcHV",
        "outputId": "cc8f15c3-3aca-4231-ca3f-a73531900b84"
      },
      "execution_count": 66,
      "outputs": [
        {
          "output_type": "stream",
          "name": "stdout",
          "text": [
            "Hello I am Sagar Birhade from Lauki Pada\n",
            "Near Asguard City\n"
          ]
        }
      ]
    },
    {
      "cell_type": "code",
      "source": [
        "f = open(\"C:\\Sagar\\Python.txt\",\"r\")\n"
      ],
      "metadata": {
        "id": "BiJu65IlaBMk"
      },
      "execution_count": null,
      "outputs": []
    },
    {
      "cell_type": "code",
      "source": [
        "#Program to append data to existing file and then display the entire file"
      ],
      "metadata": {
        "id": "ETugrCAFUL8r"
      },
      "execution_count": null,
      "outputs": []
    },
    {
      "cell_type": "code",
      "source": [
        "#Program to count no. of  characters, words and lines in the file"
      ],
      "metadata": {
        "id": "wgboKOLIUPWS"
      },
      "execution_count": null,
      "outputs": []
    },
    {
      "cell_type": "code",
      "source": [
        "#Python Dates\n",
        "#A date in python is not a data type of its own, but we can import a module named datetime to work with as date object."
      ],
      "metadata": {
        "id": "YJ5JlmrB7o2h"
      },
      "execution_count": null,
      "outputs": []
    },
    {
      "cell_type": "code",
      "source": [
        "import datetime\n",
        "x = datetime.datetime.now()\n",
        "print(x)"
      ],
      "metadata": {
        "colab": {
          "base_uri": "https://localhost:8080/"
        },
        "id": "7z73Q1tX8GDk",
        "outputId": "eedce3aa-f108-40a3-d4f4-15bb18791a0a"
      },
      "execution_count": null,
      "outputs": [
        {
          "output_type": "stream",
          "name": "stdout",
          "text": [
            "2023-10-12 08:12:13.444610\n"
          ]
        }
      ]
    },
    {
      "cell_type": "code",
      "source": [
        "import datetime\n",
        "x = datetime.datetime.now()\n",
        "print(x.year)\n",
        "print(x.strftime(\"%A\"))"
      ],
      "metadata": {
        "colab": {
          "base_uri": "https://localhost:8080/"
        },
        "id": "drEuFSX28S0R",
        "outputId": "315c9a3d-8e80-4c45-8f67-f7cc3fe05f5c"
      },
      "execution_count": null,
      "outputs": [
        {
          "output_type": "stream",
          "name": "stdout",
          "text": [
            "2023\n",
            "Thursday\n"
          ]
        }
      ]
    },
    {
      "cell_type": "code",
      "source": [
        "#Creating Date Objects\n",
        "#To create a date,we can use the datetime() class (constructor) of the datetim e module.\n",
        "#The datetime() class requires three parameters to create date: year,month,day\n"
      ],
      "metadata": {
        "id": "dQIZJXic8vTD"
      },
      "execution_count": null,
      "outputs": []
    },
    {
      "cell_type": "code",
      "source": [
        "import datetime\n",
        "x = datetime.datetime(2003,7, 14)\n",
        "print(x)"
      ],
      "metadata": {
        "colab": {
          "base_uri": "https://localhost:8080/"
        },
        "id": "Khu_DUzd9zLf",
        "outputId": "a4c1ece9-33dd-412d-dcfd-c4bc99a1c018"
      },
      "execution_count": null,
      "outputs": [
        {
          "output_type": "stream",
          "name": "stdout",
          "text": [
            "2003-07-14 00:00:00\n"
          ]
        }
      ]
    },
    {
      "cell_type": "code",
      "source": [
        "#The strftime() Method\n",
        "#The datetime object has a method for formating data object into readable strings.\n",
        "#The method is called strftime(), and takes one parameter format to specify the format of returned String.\n"
      ],
      "metadata": {
        "id": "e2HwVrM2-I4H"
      },
      "execution_count": null,
      "outputs": []
    },
    {
      "cell_type": "code",
      "source": [
        "import datetime\n",
        "x = datetime.datetime(2003,7, 14)\n",
        "print(x.strftime(\"%C\"))"
      ],
      "metadata": {
        "colab": {
          "base_uri": "https://localhost:8080/"
        },
        "id": "VldA29tY-iOw",
        "outputId": "f7b067f2-328c-4bc6-dcb7-1740730af2ca"
      },
      "execution_count": null,
      "outputs": [
        {
          "output_type": "stream",
          "name": "stdout",
          "text": [
            "20\n"
          ]
        }
      ]
    },
    {
      "cell_type": "code",
      "source": [
        "import datetime\n",
        "x = datetime.datetime(2003,7, 14)\n",
        "print(x.strftime(\"%D\"))"
      ],
      "metadata": {
        "colab": {
          "base_uri": "https://localhost:8080/"
        },
        "id": "9nKqN_OFCFvU",
        "outputId": "80822704-7d2a-4563-ee4e-30db89322429"
      },
      "execution_count": null,
      "outputs": [
        {
          "output_type": "stream",
          "name": "stdout",
          "text": [
            "07/14/03\n"
          ]
        }
      ]
    },
    {
      "cell_type": "code",
      "source": [
        "import datetime\n",
        "x = datetime.datetime(2003,7, 14)\n",
        "print(x.strftime(\"%B\"))"
      ],
      "metadata": {
        "colab": {
          "base_uri": "https://localhost:8080/"
        },
        "id": "XVXkiuQRCGB0",
        "outputId": "de5b0541-d1ad-40fc-a877-c5933f63b7e2"
      },
      "execution_count": null,
      "outputs": [
        {
          "output_type": "stream",
          "name": "stdout",
          "text": [
            "July\n"
          ]
        }
      ]
    },
    {
      "cell_type": "code",
      "source": [
        "import datetime\n",
        "x = datetime.datetime(2003,7, 14)\n",
        "print(x.strftime(\"%c\"))"
      ],
      "metadata": {
        "colab": {
          "base_uri": "https://localhost:8080/"
        },
        "id": "rDywfYkY_Gl5",
        "outputId": "96e106cc-b0b2-40fb-80cb-f0cf58bba3b8"
      },
      "execution_count": null,
      "outputs": [
        {
          "output_type": "stream",
          "name": "stdout",
          "text": [
            "Mon Jul 14 00:00:00 2003\n"
          ]
        }
      ]
    },
    {
      "cell_type": "code",
      "source": [
        "#Python program to print current date\n",
        "from datetime import date\n",
        "\n",
        "#Calling the today function of the date class\n",
        "\n",
        "print(\"Today's date is:\",date.today())"
      ],
      "metadata": {
        "colab": {
          "base_uri": "https://localhost:8080/"
        },
        "id": "2jcdaEC7_IEV",
        "outputId": "2c7d444f-8a3c-4633-ba67-5bdd2c46dce8"
      },
      "execution_count": null,
      "outputs": [
        {
          "output_type": "stream",
          "name": "stdout",
          "text": [
            "Today's date is: 2023-10-12\n"
          ]
        }
      ]
    },
    {
      "cell_type": "code",
      "source": [
        "from datetime import date\n",
        "\n",
        "today = date.today()\n",
        "\n",
        "print(\"Current Year is :\",today.year)\n",
        "print(\"Current Date is :\",today.month)\n",
        "print(\"Current Day is :\",today.day)"
      ],
      "metadata": {
        "colab": {
          "base_uri": "https://localhost:8080/"
        },
        "id": "_Y45VeLR_rwv",
        "outputId": "a8bad822-79e0-4b75-d1cf-8cee0ddeaa26"
      },
      "execution_count": null,
      "outputs": [
        {
          "output_type": "stream",
          "name": "stdout",
          "text": [
            "Current Year is : 2023\n",
            "Current Date is : 10\n",
            "Current Day is : 12\n"
          ]
        }
      ]
    },
    {
      "cell_type": "code",
      "source": [
        "from datetime import datetime\n",
        "\n",
        "#Getting Datetime from time stamp\n",
        "\n",
        "date_time = datetime.fromtimestamp(5558882221)\n",
        "print(\"Datetime from timestamp: \",date_time)"
      ],
      "metadata": {
        "colab": {
          "base_uri": "https://localhost:8080/"
        },
        "id": "0j7VImcCAf9F",
        "outputId": "bdc8eaf3-aa78-4f92-e9fe-22925735a2fb"
      },
      "execution_count": null,
      "outputs": [
        {
          "output_type": "stream",
          "name": "stdout",
          "text": [
            "Datetime from timestamp:  2146-02-25 21:57:01\n"
          ]
        }
      ]
    },
    {
      "cell_type": "code",
      "source": [
        "\n",
        "from datetime import date\n",
        "\n",
        "print(\"Today's date is:\",date.min)\n",
        "print(\"Today's date is:\",date.max)"
      ],
      "metadata": {
        "colab": {
          "base_uri": "https://localhost:8080/"
        },
        "id": "Ryv0NECMAmbb",
        "outputId": "2bcb1e4c-293c-4efb-cc38-e67fb73a7177"
      },
      "execution_count": null,
      "outputs": [
        {
          "output_type": "stream",
          "name": "stdout",
          "text": [
            "Today's date is: 0001-01-01\n",
            "Today's date is: 9999-12-31\n"
          ]
        }
      ]
    },
    {
      "cell_type": "code",
      "source": [
        "from datetime import time\n",
        "\n",
        "#calling the constructor\n",
        "my_time = time(13,24,56)\n",
        "print(\"Enteres time : \",my_time)"
      ],
      "metadata": {
        "colab": {
          "base_uri": "https://localhost:8080/"
        },
        "id": "XgqXqd2tE5CD",
        "outputId": "df06a191-153a-4c81-a15c-d2e7e60927ca"
      },
      "execution_count": null,
      "outputs": [
        {
          "output_type": "stream",
          "name": "stdout",
          "text": [
            "Enteres time :  13:24:56\n"
          ]
        }
      ]
    },
    {
      "cell_type": "code",
      "source": [
        "mt_time = time(minute = 12)\n",
        "print(\"Time with one argument is: \",my_time)"
      ],
      "metadata": {
        "colab": {
          "base_uri": "https://localhost:8080/"
        },
        "id": "zz1rndjgFKUr",
        "outputId": "99b285d6-fdde-4575-f3fa-ea78a9b95cc4"
      },
      "execution_count": null,
      "outputs": [
        {
          "output_type": "stream",
          "name": "stdout",
          "text": [
            "Time with one argument is:  13:24:56\n"
          ]
        }
      ]
    },
    {
      "cell_type": "code",
      "source": [
        "from datetime import time\n",
        "\n",
        "#Creating time object\n",
        "Time = time(12,24,36,1212)\n",
        "\n",
        "#Converting Time object to string\n",
        "str = Time.isoformat()\n",
        "print(\"String Representation: \",str)\n",
        "print(type(str))"
      ],
      "metadata": {
        "id": "Mhr7crLdFe60",
        "colab": {
          "base_uri": "https://localhost:8080/"
        },
        "outputId": "5dd1a3e2-0818-4b31-95e8-3e3dd62ce053"
      },
      "execution_count": 2,
      "outputs": [
        {
          "output_type": "stream",
          "name": "stdout",
          "text": [
            "String Representation:  12:24:36.001212\n",
            "<class 'str'>\n"
          ]
        }
      ]
    },
    {
      "cell_type": "code",
      "source": [
        "#Python program to demonstrate datetime object\n",
        "from datetime import datetime\n",
        "\n",
        "#Initializing constructor\n",
        "a = datetime(1999,12,12)\n",
        "print(a)\n",
        "\n",
        "#Initializing constructor with time parameter\n",
        "a = datetime(1999,12,12,12,12,12,43231)\n",
        "print(a)"
      ],
      "metadata": {
        "colab": {
          "base_uri": "https://localhost:8080/"
        },
        "id": "Yuim-QekE5Mi",
        "outputId": "bbf7fd12-86ee-4fd1-a27b-15936c53ae26"
      },
      "execution_count": 3,
      "outputs": [
        {
          "output_type": "stream",
          "name": "stdout",
          "text": [
            "1999-12-12 00:00:00\n",
            "1999-12-12 12:12:12.043231\n"
          ]
        }
      ]
    },
    {
      "cell_type": "code",
      "source": [
        "from datetime import datetime\n",
        "\n",
        "a = datetime(1999,12,12,12,12,12)\n",
        "print(\"Year : \",a.year)\n",
        "print(\"Month : \",a.month)\n",
        "print(\"Hour : \",a.hour)\n",
        "print(\"Minute : \",a.minute)\n",
        "print(\"Time Stamp : \",a.timestamp())"
      ],
      "metadata": {
        "colab": {
          "base_uri": "https://localhost:8080/"
        },
        "id": "VYnOxOH4HCBX",
        "outputId": "e3c2ba97-5641-44d8-b07f-251f8219841e"
      },
      "execution_count": 7,
      "outputs": [
        {
          "output_type": "stream",
          "name": "stdout",
          "text": [
            "Year :  1999\n",
            "Month :  12\n",
            "Hour :  12\n",
            "Minute :  12\n",
            "Time Stamp :  945000732.0\n"
          ]
        }
      ]
    },
    {
      "cell_type": "code",
      "source": [
        "from datetime import datetime\n",
        "\n",
        "#calling now() function\n",
        "\n",
        "today = datetime.now()\n",
        "\n",
        "print(\"Current date time is: \",today)"
      ],
      "metadata": {
        "colab": {
          "base_uri": "https://localhost:8080/"
        },
        "id": "MuXLAYOjHs1a",
        "outputId": "5e732e7f-dd7c-44e1-9e5e-8426eb4637af"
      },
      "execution_count": 8,
      "outputs": [
        {
          "output_type": "stream",
          "name": "stdout",
          "text": [
            "Current date time is:  2023-10-13 08:27:54.045187\n"
          ]
        }
      ]
    },
    {
      "cell_type": "code",
      "source": [
        "from datetime import datetime as dt\n",
        "\n",
        "#dating current data and time\n",
        "now = dt.now()\n",
        "\n",
        "string = dt.isoformat(now)\n",
        "print(string)\n",
        "print(type(string))"
      ],
      "metadata": {
        "colab": {
          "base_uri": "https://localhost:8080/"
        },
        "id": "OhWD3eJMKRII",
        "outputId": "7a7c5c95-01c1-4049-c594-198b9f207560"
      },
      "execution_count": 9,
      "outputs": [
        {
          "output_type": "stream",
          "name": "stdout",
          "text": [
            "2023-10-13T08:36:37.042770\n",
            "<class 'str'>\n"
          ]
        }
      ]
    },
    {
      "cell_type": "code",
      "source": [
        "x = min(5,10,25)\n",
        "y = max(5,10,25)\n",
        "print(x)\n",
        "print(y)"
      ],
      "metadata": {
        "colab": {
          "base_uri": "https://localhost:8080/"
        },
        "id": "FALh2q-jLkGK",
        "outputId": "ceaff573-11ba-440c-ecbc-d7ce52e5702d"
      },
      "execution_count": 11,
      "outputs": [
        {
          "output_type": "stream",
          "name": "stdout",
          "text": [
            "5\n",
            "25\n"
          ]
        }
      ]
    },
    {
      "cell_type": "code",
      "source": [
        "x = abs(-7.25)\n",
        "#Retrurn positive value\n",
        "print(x)"
      ],
      "metadata": {
        "colab": {
          "base_uri": "https://localhost:8080/"
        },
        "id": "lnZ3XtmBMAP6",
        "outputId": "b29edab7-bce8-4dd8-be8e-ac950c4f82bf"
      },
      "execution_count": 13,
      "outputs": [
        {
          "output_type": "stream",
          "name": "stdout",
          "text": [
            "7.25\n"
          ]
        }
      ]
    },
    {
      "cell_type": "code",
      "source": [
        "x = pow(5,2)\n",
        "print(x)"
      ],
      "metadata": {
        "colab": {
          "base_uri": "https://localhost:8080/"
        },
        "id": "LHJnqMOcMYNg",
        "outputId": "6809372c-2906-42ef-8a6d-7271eef90084"
      },
      "execution_count": 14,
      "outputs": [
        {
          "output_type": "stream",
          "name": "stdout",
          "text": [
            "25\n"
          ]
        }
      ]
    },
    {
      "cell_type": "code",
      "source": [
        "#import with math Library\n",
        "import math\n",
        "print(math.pi)"
      ],
      "metadata": {
        "colab": {
          "base_uri": "https://localhost:8080/"
        },
        "id": "WkGP6iI5MjZe",
        "outputId": "ebaa171c-b05d-49a1-fdb2-716586f8b856"
      },
      "execution_count": 15,
      "outputs": [
        {
          "output_type": "stream",
          "name": "stdout",
          "text": [
            "3.141592653589793\n"
          ]
        }
      ]
    },
    {
      "cell_type": "code",
      "source": [
        "import math\n",
        "\n",
        "r = int(input(\"Enter a radius: \"))\n",
        "print(\"Area of Circle is: \",math.pi*r*r)"
      ],
      "metadata": {
        "colab": {
          "base_uri": "https://localhost:8080/"
        },
        "id": "jSaA7As9NPG8",
        "outputId": "cfb16507-ca74-473b-830a-13163cc12516"
      },
      "execution_count": 17,
      "outputs": [
        {
          "output_type": "stream",
          "name": "stdout",
          "text": [
            "Enter a radius: 4\n",
            "Area of Circle is:  50.26548245743669\n"
          ]
        }
      ]
    },
    {
      "cell_type": "code",
      "source": [
        "#import math library\n",
        "import math\n",
        "\n",
        "#Print the value of nan\n",
        "print(math.nan)"
      ],
      "metadata": {
        "colab": {
          "base_uri": "https://localhost:8080/"
        },
        "id": "N-2dzmQrNo_w",
        "outputId": "fdcd2f39-a45e-4920-b3f1-63145cd35727"
      },
      "execution_count": 19,
      "outputs": [
        {
          "output_type": "stream",
          "name": "stdout",
          "text": [
            "nan\n"
          ]
        }
      ]
    },
    {
      "cell_type": "code",
      "source": [
        "import math\n",
        "a = 4.3\n",
        "\n",
        "print(\"The ceil of 4.3 is: \",end=\"\")\n",
        "print(math.ceil(a))\n",
        "print(\"The floor of 4.3 is : \",end=\"\")\n",
        "print(math.floor(a))"
      ],
      "metadata": {
        "colab": {
          "base_uri": "https://localhost:8080/"
        },
        "id": "YjQ1h5ObN6Qf",
        "outputId": "498e033e-3d63-4fe0-ddf8-4ac74299c7cb"
      },
      "execution_count": 23,
      "outputs": [
        {
          "output_type": "stream",
          "name": "stdout",
          "text": [
            "The ceil of 4.3 is: 5\n",
            "The floor of 4.3 is : 4\n"
          ]
        }
      ]
    },
    {
      "cell_type": "code",
      "source": [
        "import math\n",
        "a = 5\n",
        "print(\"THe factorial of 5 is: \",end=\"\")\n",
        "print(math.factorial(a))"
      ],
      "metadata": {
        "colab": {
          "base_uri": "https://localhost:8080/"
        },
        "id": "K2wlOUmsPhOv",
        "outputId": "514fc082-ca1b-4fe7-a770-5c8ece22b7dd"
      },
      "execution_count": 25,
      "outputs": [
        {
          "output_type": "stream",
          "name": "stdout",
          "text": [
            "THe factorial of 5 is: 120\n"
          ]
        }
      ]
    },
    {
      "cell_type": "code",
      "source": [
        "import math\n",
        "a = 25\n",
        "b = 5\n",
        "print(\"The end of 5 and 25 is: \",end=\"\")\n",
        "print(math.gcd(b,a))"
      ],
      "metadata": {
        "colab": {
          "base_uri": "https://localhost:8080/"
        },
        "id": "KdzT15ZlP49O",
        "outputId": "eff38b12-6091-4094-a86b-57977093ae60"
      },
      "execution_count": 26,
      "outputs": [
        {
          "output_type": "stream",
          "name": "stdout",
          "text": [
            "The end of 5 and 25 is: 5\n"
          ]
        }
      ]
    },
    {
      "cell_type": "code",
      "source": [
        "import math\n",
        "a = -10\n",
        "print(\"The absolute value of -10 is: \",end=\"\")\n",
        "print(math.fabs(a))"
      ],
      "metadata": {
        "colab": {
          "base_uri": "https://localhost:8080/"
        },
        "id": "wYENnqooQECl",
        "outputId": "80ec8ecf-1870-42e9-c014-cbb9d730886b"
      },
      "execution_count": 28,
      "outputs": [
        {
          "output_type": "stream",
          "name": "stdout",
          "text": [
            "The absolute value of -10 is: 10.0\n"
          ]
        }
      ]
    },
    {
      "cell_type": "code",
      "source": [
        "import math\n",
        "test_int = 4\n",
        "test_neg_int = -3\n",
        "test_float = 0.00\n",
        "print(math.exp(test_int))\n",
        "print(math.exp(test_neg_int))\n",
        "print(math.exp(test_float))"
      ],
      "metadata": {
        "colab": {
          "base_uri": "https://localhost:8080/"
        },
        "id": "Ph1fdYohQaUm",
        "outputId": "261927d1-f253-404f-99bd-33af00183284"
      },
      "execution_count": 29,
      "outputs": [
        {
          "output_type": "stream",
          "name": "stdout",
          "text": [
            "54.598150033144236\n",
            "0.049787068367863944\n",
            "1.0\n"
          ]
        }
      ]
    },
    {
      "cell_type": "code",
      "source": [
        "print(\"The value  of 3**4 is: \",end=\"\")\n",
        "print(pow(3,4))"
      ],
      "metadata": {
        "colab": {
          "base_uri": "https://localhost:8080/"
        },
        "id": "h8J2WouKQ3Jm",
        "outputId": "cf8cf440-e6f1-4d86-99f3-9513ee5acf66"
      },
      "execution_count": 30,
      "outputs": [
        {
          "output_type": "stream",
          "name": "stdout",
          "text": [
            "The value  of 3**4 is: 81\n"
          ]
        }
      ]
    },
    {
      "cell_type": "code",
      "source": [
        "import math\n",
        "\n",
        "print(\"The value of log 2 with base 3 is: \",end=\"\")\n",
        "print(math.log(2,3))\n",
        "\n",
        "print(\"The value of log2 of 16 is: \",end=\"\")\n",
        "print(math.log2(16))\n",
        "\n",
        "print(\"The value of log10 of 1000 is: \",end=\"\")\n",
        "print(math.log10(1000))"
      ],
      "metadata": {
        "colab": {
          "base_uri": "https://localhost:8080/"
        },
        "id": "qhcHPjTIRZKU",
        "outputId": "df32a404-edb2-418e-d7ff-692c5dae90f7"
      },
      "execution_count": 34,
      "outputs": [
        {
          "output_type": "stream",
          "name": "stdout",
          "text": [
            "The value of log 2 with base 3 is: 0.6309297535714574\n",
            "The value of log2 of 16 is: 4.0\n",
            "The value of log10 of 1000 is: 3.0\n"
          ]
        }
      ]
    },
    {
      "cell_type": "code",
      "source": [
        "import math\n",
        "\n",
        "print(math.sqrt(3))\n",
        "\n",
        "print(math.sqrt(81))\n",
        "\n",
        "print(math.sqrt(3.6))"
      ],
      "metadata": {
        "colab": {
          "base_uri": "https://localhost:8080/"
        },
        "id": "TLl1Fn7bSMvk",
        "outputId": "f9134de7-7fc7-43be-fee1-d9ca1ddb8848"
      },
      "execution_count": 37,
      "outputs": [
        {
          "output_type": "stream",
          "name": "stdout",
          "text": [
            "1.7320508075688772\n",
            "9.0\n",
            "1.8973665961010275\n"
          ]
        }
      ]
    },
    {
      "cell_type": "code",
      "source": [
        "import math\n",
        "a = math.pi/6\n",
        "print(\"the value of sine of pi/6 is: \",end=\"\")\n",
        "print(math.sin(a))\n",
        "\n",
        "print(\"the value of coine of pi/6 is: \",end=\"\")\n",
        "print(math.cos(a))\n",
        "\n",
        "print(\"the value of tan of pi/6 is: \",end=\"\")\n",
        "print(math.tan(a))"
      ],
      "metadata": {
        "colab": {
          "base_uri": "https://localhost:8080/"
        },
        "id": "4umowpF2SbgO",
        "outputId": "a7fdb663-bebf-4b09-c0b8-24adc3aa048b"
      },
      "execution_count": 49,
      "outputs": [
        {
          "output_type": "stream",
          "name": "stdout",
          "text": [
            "the value of sine of pi/6 is: 0.49999999999999994\n",
            "the value of coine of pi/6 is: 0.8660254037844387\n",
            "the value of tan of pi/6 is: 0.5773502691896257\n"
          ]
        }
      ]
    },
    {
      "cell_type": "code",
      "source": [],
      "metadata": {
        "id": "a5WXj-5tQUM2"
      },
      "execution_count": null,
      "outputs": []
    }
  ]
}