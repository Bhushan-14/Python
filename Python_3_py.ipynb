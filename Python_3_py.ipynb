{
  "nbformat": 4,
  "nbformat_minor": 0,
  "metadata": {
    "colab": {
      "provenance": [],
      "authorship_tag": "ABX9TyPsTIvh6t11OCXAaHUySMG8",
      "include_colab_link": true
    },
    "kernelspec": {
      "name": "python3",
      "display_name": "Python 3"
    },
    "language_info": {
      "name": "python"
    }
  },
  "cells": [
    {
      "cell_type": "markdown",
      "metadata": {
        "id": "view-in-github",
        "colab_type": "text"
      },
      "source": [
        "<a href=\"https://colab.research.google.com/github/Bhushan-14/Python/blob/main/Python_3_py.ipynb\" target=\"_parent\"><img src=\"https://colab.research.google.com/assets/colab-badge.svg\" alt=\"Open In Colab\"/></a>"
      ]
    },
    {
      "cell_type": "code",
      "execution_count": null,
      "metadata": {
        "id": "PzGVt6R8xtax",
        "colab": {
          "base_uri": "https://localhost:8080/"
        },
        "outputId": "6b755823-6d35-4b5d-bdce-8b7e3fef000e"
      },
      "outputs": [
        {
          "output_type": "stream",
          "name": "stdout",
          "text": [
            "Apple\n",
            "Mango\n",
            "Bannana\n"
          ]
        }
      ],
      "source": [
        "#For Loop over a List\n",
        "fruits = [\"Apple\", \"Mango\", \"Bannana\"]\n",
        "for x in fruits:\n",
        "  print(x)"
      ]
    },
    {
      "cell_type": "code",
      "source": [
        "#For Loop over a String\n",
        "for x in \"Bannana\":\n",
        "  print(x)"
      ],
      "metadata": {
        "colab": {
          "base_uri": "https://localhost:8080/"
        },
        "id": "E-xx3dpb2WYI",
        "outputId": "172314c5-9a20-42f5-cdcb-adc45dd95b24"
      },
      "execution_count": null,
      "outputs": [
        {
          "output_type": "stream",
          "name": "stdout",
          "text": [
            "B\n",
            "a\n",
            "n\n",
            "n\n",
            "a\n",
            "n\n",
            "a\n"
          ]
        }
      ]
    },
    {
      "cell_type": "code",
      "source": [
        "#For Loop over a Tuple\n",
        "fruits = (\"Apple\",\"Mango\",\"Bannana\",\"cherry\")\n",
        "for x in fruits:\n",
        "  print(x)"
      ],
      "metadata": {
        "colab": {
          "base_uri": "https://localhost:8080/"
        },
        "id": "5i6zjZrv27vb",
        "outputId": "fb635a79-e5b2-4514-e130-a51393341e9d"
      },
      "execution_count": null,
      "outputs": [
        {
          "output_type": "stream",
          "name": "stdout",
          "text": [
            "Apple\n",
            "Mango\n",
            "Bannana\n",
            "cherry\n"
          ]
        }
      ]
    },
    {
      "cell_type": "code",
      "source": [
        "#For Loop over a Dictionary\n",
        "fruits = {\"Apple\",\"Mango\",\"Bannana\",\"cherry\"}\n",
        "for x in fruits:\n",
        "  print(x)"
      ],
      "metadata": {
        "colab": {
          "base_uri": "https://localhost:8080/"
        },
        "id": "Ii0J_HLN2cxi",
        "outputId": "c0691918-73da-4d6e-882d-701d4814ed7b"
      },
      "execution_count": null,
      "outputs": [
        {
          "output_type": "stream",
          "name": "stdout",
          "text": [
            "Apple\n",
            "Mango\n",
            "Bannana\n",
            "cherry\n"
          ]
        }
      ]
    },
    {
      "cell_type": "code",
      "source": [
        "fruits = [\"Apple\", \"Mango\", \"Bannana\",\"Cherry\"]\n",
        "for x in fruits:\n",
        "  print(x)\n",
        "  if x == \"Bannana\":\n",
        "    break"
      ],
      "metadata": {
        "colab": {
          "base_uri": "https://localhost:8080/"
        },
        "id": "i3TUfSGi3Erq",
        "outputId": "0d9ac345-1596-48e9-ddc9-28e91501f6c6"
      },
      "execution_count": null,
      "outputs": [
        {
          "output_type": "stream",
          "name": "stdout",
          "text": [
            "Apple\n",
            "Mango\n",
            "Bannana\n"
          ]
        }
      ]
    },
    {
      "cell_type": "code",
      "source": [
        "fruits = [\"Apple\", \"Mango\", \"Bannana\",\"Cherry\"]\n",
        "for x in fruits:\n",
        "  if x == \"Bannana\":\n",
        "    break\n",
        "  print(x)"
      ],
      "metadata": {
        "colab": {
          "base_uri": "https://localhost:8080/"
        },
        "id": "hACo2toM3Z7u",
        "outputId": "24e53ac1-ca41-430a-a024-5678852d09ea"
      },
      "execution_count": null,
      "outputs": [
        {
          "output_type": "stream",
          "name": "stdout",
          "text": [
            "Apple\n",
            "Mango\n"
          ]
        }
      ]
    },
    {
      "cell_type": "code",
      "source": [
        "#Function in Python\n",
        "#Function is block of code which can run  when it is called and it return result\n",
        "#We can pass data to the function which is known as \"Parameters\""
      ],
      "metadata": {
        "id": "MZayIp8Z3WLu"
      },
      "execution_count": null,
      "outputs": []
    },
    {
      "cell_type": "code",
      "source": [
        "#Creating a Function\n",
        "#For creating a function we us \"def\" keyword\n",
        "def my_function():\n",
        "  print(\"Hello! I am Sagar\")"
      ],
      "metadata": {
        "id": "SL3aCssV4VVB"
      },
      "execution_count": null,
      "outputs": []
    },
    {
      "cell_type": "code",
      "source": [
        "#To call the function use the function name following by paranthesis\n",
        "def my_function():\n",
        "  print(\"Hello! I am Sagar\")\n",
        "my_function()"
      ],
      "metadata": {
        "colab": {
          "base_uri": "https://localhost:8080/"
        },
        "id": "5OqfC7Lz4jJg",
        "outputId": "71447d21-bf11-4b59-f6aa-1285cf695056"
      },
      "execution_count": null,
      "outputs": [
        {
          "output_type": "stream",
          "name": "stdout",
          "text": [
            "Hello! I am Sagar\n"
          ]
        }
      ]
    },
    {
      "cell_type": "code",
      "source": [
        "#Arguments\n",
        "#Informatio can be passed into the function in the from of arguments\n",
        "#We can passed the argument after ther function name inside the paranthesis\n",
        "#We can pass as many as arguments we want\n"
      ],
      "metadata": {
        "id": "tgTJLcb75ylv"
      },
      "execution_count": null,
      "outputs": []
    },
    {
      "cell_type": "code",
      "source": [
        "def my_function(name):\n",
        "  print(\"Hello \"+name)\n",
        "\n",
        "my_function(\"Sagar\")\n",
        "my_function(\"Hrishi\")\n",
        "my_function(\"Jatin\")"
      ],
      "metadata": {
        "colab": {
          "base_uri": "https://localhost:8080/"
        },
        "id": "56yC0C506b03",
        "outputId": "c8866540-a564-40b8-8a8b-43031c20f808"
      },
      "execution_count": null,
      "outputs": [
        {
          "output_type": "stream",
          "name": "stdout",
          "text": [
            "Hello Sagar\n",
            "Hello Hrishi\n",
            "Hello Jatin\n"
          ]
        }
      ]
    },
    {
      "cell_type": "code",
      "source": [
        "#Parameters or Arguments\n",
        "#From Functions prespective:\n",
        "  #A Parameters is the variables listed inside the function when it is called.\n",
        "  #An Argument id the value that is sent to the function when it is called.\n",
        "#Number of an arguments is must have correct while calling it.\n"
      ],
      "metadata": {
        "id": "rzZq2aiM7IIk"
      },
      "execution_count": null,
      "outputs": []
    },
    {
      "cell_type": "code",
      "source": [
        "def my_function(fname,lname):\n",
        "  print(fname+\" \"+lname)\n",
        "\n",
        "my_function(\"Sagar\",\"Patil\")"
      ],
      "metadata": {
        "colab": {
          "base_uri": "https://localhost:8080/"
        },
        "id": "PzXCuQWR8izF",
        "outputId": "98aeba2a-1e36-4104-ad7d-a2c9641f3626"
      },
      "execution_count": null,
      "outputs": [
        {
          "output_type": "stream",
          "name": "stdout",
          "text": [
            "Sagar Patil\n"
          ]
        }
      ]
    },
    {
      "cell_type": "code",
      "source": [
        "#Arbitrary Arguments\n",
        "#If we dont know how many number of arguments that will be passed into your function ,\n",
        "#add \"*\" before the parameter name in the function definition"
      ],
      "metadata": {
        "id": "C9qWIfvb84jG"
      },
      "execution_count": null,
      "outputs": []
    },
    {
      "cell_type": "code",
      "source": [
        "def my_function(*kids):\n",
        "  print(\"The youngest child in house is \"+kids[2])\n",
        "\n",
        "my_function(\"Amit\",\"Raj\",\"Arun\")"
      ],
      "metadata": {
        "colab": {
          "base_uri": "https://localhost:8080/"
        },
        "id": "CUfixtPG93ar",
        "outputId": "61e52012-b60b-4680-e95a-6d4f47d6eae4"
      },
      "execution_count": null,
      "outputs": [
        {
          "output_type": "stream",
          "name": "stdout",
          "text": [
            "The youngest child in house is Arun\n"
          ]
        }
      ]
    },
    {
      "cell_type": "code",
      "source": [
        "def my_function(child1,child2,child3):\n",
        "  print(\"The youngest child in house is \"+child2)\n",
        "\n",
        "my_function(child1 = \"Amit\",child2 = \"Raj\",child3 = \"Arun\")"
      ],
      "metadata": {
        "colab": {
          "base_uri": "https://localhost:8080/"
        },
        "id": "g8_6jyxC-Kz_",
        "outputId": "4c8b5502-be96-411b-9f39-60cba02f8a58"
      },
      "execution_count": null,
      "outputs": [
        {
          "output_type": "stream",
          "name": "stdout",
          "text": [
            "The youngest child in house is Raj\n"
          ]
        }
      ]
    },
    {
      "cell_type": "code",
      "source": [
        "#Default Parameter value\n",
        "#If we call funcion without parameters then it use parameters default Values"
      ],
      "metadata": {
        "id": "6INaEmH3-hSD"
      },
      "execution_count": null,
      "outputs": []
    },
    {
      "cell_type": "code",
      "source": [
        "def my_function(Country = \"India\"):\n",
        "  print(\"Sagar is from country \"+Country)\n",
        "my_function(\"Russia\")\n",
        "my_function(\"Norway\")\n",
        "my_function()"
      ],
      "metadata": {
        "colab": {
          "base_uri": "https://localhost:8080/"
        },
        "id": "dx3SegMo_JEr",
        "outputId": "061bc61c-977c-421e-8d10-55b6f78fc695"
      },
      "execution_count": null,
      "outputs": [
        {
          "output_type": "stream",
          "name": "stdout",
          "text": [
            "Sagar is from country Russia\n",
            "Sagar is from country Norway\n",
            "Sagar is from country India\n"
          ]
        }
      ]
    },
    {
      "cell_type": "code",
      "source": [
        "#Passing a list is an argument\n",
        "#You can send any data types of arguments to function(String,number,list,dictionary,etc.)\n",
        "#and it will be iterated as the same data type inside the function"
      ],
      "metadata": {
        "id": "Ev2Z7-Zh_wxq"
      },
      "execution_count": null,
      "outputs": []
    },
    {
      "cell_type": "code",
      "source": [
        "#food is am parameter, and we pass fruits list as an argument hence fruit is pass to food and it iterated a list\n",
        "def my_function(food):\n",
        "  for x in food:\n",
        "    print(x)\n",
        "\n",
        "fruits = [\"Apple\",\"Mango\",\"cherry\"]\n",
        "my_function(fruits)"
      ],
      "metadata": {
        "colab": {
          "base_uri": "https://localhost:8080/"
        },
        "id": "87UB3h3iAc8p",
        "outputId": "a4a3e5aa-bba4-48f1-9f1f-44de554c7cd2"
      },
      "execution_count": null,
      "outputs": [
        {
          "output_type": "stream",
          "name": "stdout",
          "text": [
            "Apple\n",
            "Mango\n",
            "cherry\n"
          ]
        }
      ]
    },
    {
      "cell_type": "code",
      "source": [
        "def my_function(x):\n",
        "  return 5 * x\n",
        "\n",
        "print(my_function(12))\n",
        "print(my_function(4))\n",
        "print(my_function(5))"
      ],
      "metadata": {
        "colab": {
          "base_uri": "https://localhost:8080/"
        },
        "id": "H9dScrxA_gkn",
        "outputId": "416a38ab-198f-4531-a30b-1b04c21cd01f"
      },
      "execution_count": null,
      "outputs": [
        {
          "output_type": "stream",
          "name": "stdout",
          "text": [
            "60\n",
            "20\n",
            "25\n"
          ]
        }
      ]
    },
    {
      "cell_type": "code",
      "source": [
        "#lamda function:-\n",
        "#A lamba function is a small anonymous function.\n",
        "#A lambda function can take any number of arguments but can only have one expression.\n",
        "#lambda functions does not have name, and it no need to pass parameters in brackets"
      ],
      "metadata": {
        "id": "nEabbA5yBvr5"
      },
      "execution_count": null,
      "outputs": []
    },
    {
      "cell_type": "code",
      "source": [
        "#a =>  is an argument and a*10 is expression\n",
        "#x is an function objet\n",
        "x = lambda a:a*10\n",
        "print(x(5))"
      ],
      "metadata": {
        "colab": {
          "base_uri": "https://localhost:8080/"
        },
        "id": "1RSXPdgKBskg",
        "outputId": "24725aab-44df-4948-8e8b-8972d2fe7918"
      },
      "execution_count": null,
      "outputs": [
        {
          "output_type": "stream",
          "name": "stdout",
          "text": [
            "50\n"
          ]
        }
      ]
    },
    {
      "cell_type": "code",
      "source": [
        "#Here both a and b are arguments, and it has only one function\n",
        "x = lambda a,b:a+b\n",
        "print(x(12,6))"
      ],
      "metadata": {
        "colab": {
          "base_uri": "https://localhost:8080/"
        },
        "id": "V9XTd8DdDE17",
        "outputId": "a0698524-aa84-4893-c65f-3b74cc5e839d"
      },
      "execution_count": null,
      "outputs": [
        {
          "output_type": "stream",
          "name": "stdout",
          "text": [
            "18\n"
          ]
        }
      ]
    },
    {
      "cell_type": "code",
      "source": [
        "def my_func(n):\n",
        "  return lambda a:a*n\n",
        "doubler = my_func(2)\n",
        "trippler = my_func(3)\n",
        "\n",
        "print(doubler(11))\n",
        "print(trippler(11))"
      ],
      "metadata": {
        "colab": {
          "base_uri": "https://localhost:8080/"
        },
        "id": "07xRLRgQFrRk",
        "outputId": "eee241bd-b205-4ca7-dbaf-b7902e50d58e"
      },
      "execution_count": null,
      "outputs": [
        {
          "output_type": "stream",
          "name": "stdout",
          "text": [
            "22\n",
            "33\n"
          ]
        }
      ]
    },
    {
      "cell_type": "code",
      "source": [
        "#Python Lits\n",
        "#List[] are use to store a multiple items in a single variable.\n",
        "#List[] is one of the built-in datatype among the 4 built-in data type"
      ],
      "metadata": {
        "id": "Ev_DW7pyGr1H"
      },
      "execution_count": null,
      "outputs": []
    },
    {
      "cell_type": "code",
      "source": [
        "#List items\n",
        "#List items are ordered, changebale and allow duplicate values\n",
        "#List items are indexed as item[0],item[1],....."
      ],
      "metadata": {
        "id": "gjWksUbGHINy"
      },
      "execution_count": null,
      "outputs": []
    },
    {
      "cell_type": "code",
      "source": [
        "mylist = [\"Sagar\",\"Mayur\",\"Hrishi\",\"Jatin\",\"Sagar\"]\n",
        "print(mylist)\n",
        "\n",
        "print(len(mylist))"
      ],
      "metadata": {
        "colab": {
          "base_uri": "https://localhost:8080/"
        },
        "id": "Bm4Yjpu3Ik7o",
        "outputId": "25f574ba-86e9-4c0d-aefb-44200c784144"
      },
      "execution_count": null,
      "outputs": [
        {
          "output_type": "stream",
          "name": "stdout",
          "text": [
            "['Sagar', 'Mayur', 'Hrishi', 'Jatin', 'Sagar']\n",
            "5\n"
          ]
        }
      ]
    },
    {
      "cell_type": "code",
      "source": [
        "fruits = [\"Mango\",\"Apple\",\"Cherry\"]\n",
        "number = [1, 2, 3, 4]\n",
        "city = [\"Dhule\",\"Shirpur\",\"Nasik\"]\n",
        "print(fruits)\n",
        "print(number)\n",
        "print(city)"
      ],
      "metadata": {
        "colab": {
          "base_uri": "https://localhost:8080/"
        },
        "id": "nOBmzpbzI3Jg",
        "outputId": "8b460a35-3757-41e5-c625-d7cba7436322"
      },
      "execution_count": null,
      "outputs": [
        {
          "output_type": "stream",
          "name": "stdout",
          "text": [
            "['Mango', 'Apple', 'Cherry']\n",
            "[1, 2, 3, 4]\n",
            "['Dhule', 'Shirpur', 'Nasik']\n"
          ]
        }
      ]
    },
    {
      "cell_type": "code",
      "source": [
        "mixList = [1 , \"Sagar\" , \"shirpur\"]\n",
        "print(mixList)"
      ],
      "metadata": {
        "colab": {
          "base_uri": "https://localhost:8080/"
        },
        "id": "x4ypXKjKJODi",
        "outputId": "36eefe07-c3af-4b53-e88d-c46aa304c3c6"
      },
      "execution_count": null,
      "outputs": [
        {
          "output_type": "stream",
          "name": "stdout",
          "text": [
            "[1, 'Sagar', 'shirpur']\n"
          ]
        }
      ]
    },
    {
      "cell_type": "code",
      "source": [],
      "metadata": {
        "id": "dqll4q-4I5u9"
      },
      "execution_count": null,
      "outputs": []
    }
  ]
}