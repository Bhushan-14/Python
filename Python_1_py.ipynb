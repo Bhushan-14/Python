{
  "nbformat": 4,
  "nbformat_minor": 0,
  "metadata": {
    "colab": {
      "provenance": [],
      "authorship_tag": "ABX9TyPic/ytitwqPcVLjJTXBeIV",
      "include_colab_link": true
    },
    "kernelspec": {
      "name": "python3",
      "display_name": "Python 3"
    },
    "language_info": {
      "name": "python"
    }
  },
  "cells": [
    {
      "cell_type": "markdown",
      "metadata": {
        "id": "view-in-github",
        "colab_type": "text"
      },
      "source": [
        "<a href=\"https://colab.research.google.com/github/Bhushan-14/Python/blob/main/Python_1_py.ipynb\" target=\"_parent\"><img src=\"https://colab.research.google.com/assets/colab-badge.svg\" alt=\"Open In Colab\"/></a>"
      ]
    },
    {
      "cell_type": "code",
      "execution_count": null,
      "metadata": {
        "id": "zRnvk5-Ah-aM"
      },
      "outputs": [],
      "source": [
        "#This is a Comment.\n",
        "#Python Does Not Support Multi-Line Comments."
      ]
    },
    {
      "cell_type": "code",
      "source": [
        "print('Hello World')"
      ],
      "metadata": {
        "colab": {
          "base_uri": "https://localhost:8080/"
        },
        "id": "ifVOpYk9ivCY",
        "outputId": "894158f3-16f5-4c50-97bc-951d1191c2d7"
      },
      "execution_count": null,
      "outputs": [
        {
          "output_type": "stream",
          "name": "stdout",
          "text": [
            "Hello World\n"
          ]
        }
      ]
    },
    {
      "cell_type": "code",
      "source": [
        "x = 12\n",
        "y = 'Sagar'\n",
        "print(x)\n",
        "print(y)"
      ],
      "metadata": {
        "colab": {
          "base_uri": "https://localhost:8080/"
        },
        "id": "75FZnH3ciiyc",
        "outputId": "d5167bb7-dac8-4b87-8182-9bde20f8efbf"
      },
      "execution_count": null,
      "outputs": [
        {
          "output_type": "stream",
          "name": "stdout",
          "text": [
            "12\n",
            "Sagar\n"
          ]
        }
      ]
    },
    {
      "cell_type": "code",
      "source": [
        "x = 14\n",
        "x = 'Sagar'\n",
        "print(x)"
      ],
      "metadata": {
        "colab": {
          "base_uri": "https://localhost:8080/"
        },
        "id": "ZKq1sHA5isJ4",
        "outputId": "a2172400-2a0c-4936-e7bf-1d34ded614e3"
      },
      "execution_count": null,
      "outputs": [
        {
          "output_type": "stream",
          "name": "stdout",
          "text": [
            "Sagar\n"
          ]
        }
      ]
    },
    {
      "cell_type": "code",
      "source": [
        "x = 12\n",
        "type(x)"
      ],
      "metadata": {
        "colab": {
          "base_uri": "https://localhost:8080/"
        },
        "id": "Rf5a69WIi3tz",
        "outputId": "76935262-18e5-4630-8cc5-a60adac7ddb6"
      },
      "execution_count": null,
      "outputs": [
        {
          "output_type": "execute_result",
          "data": {
            "text/plain": [
              "int"
            ]
          },
          "metadata": {},
          "execution_count": 6
        }
      ]
    },
    {
      "cell_type": "code",
      "source": [
        "x = 12\n",
        "x = 'Sagar'\n",
        "print(x)"
      ],
      "metadata": {
        "colab": {
          "base_uri": "https://localhost:8080/"
        },
        "id": "wQXhS0Yui7cO",
        "outputId": "89baee71-df56-4857-a23e-88e3df3d7a8d"
      },
      "execution_count": null,
      "outputs": [
        {
          "output_type": "stream",
          "name": "stdout",
          "text": [
            "Sagar\n"
          ]
        }
      ]
    },
    {
      "cell_type": "code",
      "source": [
        "x  = str(12)\n",
        "y = int(10)\n",
        "z = float(12.2)\n",
        "print(x)\n",
        "print(y)\n",
        "print(z)"
      ],
      "metadata": {
        "colab": {
          "base_uri": "https://localhost:8080/"
        },
        "id": "RKDsYm4Ji_jT",
        "outputId": "9335989d-5723-4095-dabf-3e5cfcc00b35"
      },
      "execution_count": null,
      "outputs": [
        {
          "output_type": "stream",
          "name": "stdout",
          "text": [
            "12\n",
            "10\n",
            "12.2\n"
          ]
        }
      ]
    },
    {
      "cell_type": "code",
      "source": [
        "#Multiple Variable Declaration\n",
        "x , y , z = 'Mango','Bannana','Apple'\n",
        "print(x)\n",
        "print(y)\n",
        "print(z)"
      ],
      "metadata": {
        "colab": {
          "base_uri": "https://localhost:8080/"
        },
        "id": "SVxVzc38jSSV",
        "outputId": "138ec8f0-972b-4e66-cbfc-db3ed409b835"
      },
      "execution_count": null,
      "outputs": [
        {
          "output_type": "stream",
          "name": "stdout",
          "text": [
            "Mango\n",
            "Bannana\n",
            "Apple\n"
          ]
        }
      ]
    },
    {
      "cell_type": "code",
      "source": [
        "x = y = z = 'Orange'\n",
        "print(x)\n",
        "print(y)\n",
        "print(z)"
      ],
      "metadata": {
        "colab": {
          "base_uri": "https://localhost:8080/"
        },
        "id": "LfVnd8SmjE04",
        "outputId": "6625cb7d-8ebe-4943-b649-5c3d3aa5805f"
      },
      "execution_count": null,
      "outputs": [
        {
          "output_type": "stream",
          "name": "stdout",
          "text": [
            "Orange\n",
            "Orange\n",
            "Orange\n"
          ]
        }
      ]
    },
    {
      "cell_type": "code",
      "source": [
        "#Unpacking\n",
        "fruits = ['Mango','Bannana','Apple']\n",
        "x , y , z = fruits\n",
        "print(x)"
      ],
      "metadata": {
        "colab": {
          "base_uri": "https://localhost:8080/"
        },
        "id": "BUbtJILTjXwl",
        "outputId": "c063ba2f-4993-4492-e5bf-86a97beb977f"
      },
      "execution_count": null,
      "outputs": [
        {
          "output_type": "stream",
          "name": "stdout",
          "text": [
            "Mango\n"
          ]
        }
      ]
    },
    {
      "cell_type": "code",
      "source": [
        "#Datatype : int\n",
        "x = 5\n",
        "print(type(x))"
      ],
      "metadata": {
        "colab": {
          "base_uri": "https://localhost:8080/"
        },
        "id": "VZw5QTF-jc2E",
        "outputId": "4b76bfa0-6a0f-43fa-f03f-91537ae7a1fb"
      },
      "execution_count": null,
      "outputs": [
        {
          "output_type": "stream",
          "name": "stdout",
          "text": [
            "<class 'int'>\n"
          ]
        }
      ]
    },
    {
      "cell_type": "code",
      "source": [
        "#Datatype : str\n",
        "x = 'Hello World'\n",
        "print(x)\n",
        "print(type(x))"
      ],
      "metadata": {
        "colab": {
          "base_uri": "https://localhost:8080/"
        },
        "id": "7qwS1sbvjiGt",
        "outputId": "7d0b9c7e-343d-47a2-d1d4-8230ffdc7231"
      },
      "execution_count": null,
      "outputs": [
        {
          "output_type": "stream",
          "name": "stdout",
          "text": [
            "Hello World\n",
            "<class 'str'>\n"
          ]
        }
      ]
    },
    {
      "cell_type": "code",
      "source": [
        "#Datatype : list\n",
        "x = ['Mango','Bannana','Apple']\n",
        "print(x)\n",
        "print(type(x))"
      ],
      "metadata": {
        "colab": {
          "base_uri": "https://localhost:8080/"
        },
        "id": "3T9-1u9AjmSW",
        "outputId": "7cd3c42b-56e9-4be3-9437-5c73b444fa1d"
      },
      "execution_count": null,
      "outputs": [
        {
          "output_type": "stream",
          "name": "stdout",
          "text": [
            "['Mango', 'Bannana', 'Apple']\n",
            "<class 'list'>\n"
          ]
        }
      ]
    },
    {
      "cell_type": "code",
      "source": [
        "#Datatype : tuple\n",
        "x = ('Mango','Bannana','Apple')\n",
        "print(x)\n",
        "print(type(x))"
      ],
      "metadata": {
        "colab": {
          "base_uri": "https://localhost:8080/"
        },
        "id": "xqS51oYmjrpI",
        "outputId": "f42d64cd-c83b-4d4b-f40c-425e2de20747"
      },
      "execution_count": null,
      "outputs": [
        {
          "output_type": "stream",
          "name": "stdout",
          "text": [
            "('Mango', 'Bannana', 'Apple')\n",
            "<class 'tuple'>\n"
          ]
        }
      ]
    },
    {
      "cell_type": "code",
      "source": [
        "#Datatype : bool\n",
        "x = True\n",
        "print(x)\n",
        "print(type(x))"
      ],
      "metadata": {
        "colab": {
          "base_uri": "https://localhost:8080/"
        },
        "id": "9Gc-wDOPjwSp",
        "outputId": "6e5da55e-9961-44ee-c8f3-ede57ea8c2a2"
      },
      "execution_count": null,
      "outputs": [
        {
          "output_type": "stream",
          "name": "stdout",
          "text": [
            "True\n",
            "<class 'bool'>\n"
          ]
        }
      ]
    },
    {
      "cell_type": "code",
      "source": [
        "#Datatype : dict\n",
        "x = {'Name' : 'Bhushan', 'Age' : 20 }\n",
        "print(x)\n",
        "print(type(x))"
      ],
      "metadata": {
        "colab": {
          "base_uri": "https://localhost:8080/"
        },
        "id": "dSoAlE_lj0LH",
        "outputId": "1daa23c6-0131-4bdc-da1c-c84f4600d312"
      },
      "execution_count": null,
      "outputs": [
        {
          "output_type": "stream",
          "name": "stdout",
          "text": [
            "{'Name': 'Bhushan', 'Age': 20}\n",
            "<class 'dict'>\n"
          ]
        }
      ]
    },
    {
      "cell_type": "code",
      "source": [
        "#Datatype : Range\n",
        "x = range(20)\n",
        "print(x)\n",
        "print(type(x))"
      ],
      "metadata": {
        "colab": {
          "base_uri": "https://localhost:8080/"
        },
        "id": "mTsqK2xDj36T",
        "outputId": "6d887fc2-db82-4c25-f768-072e6755194e"
      },
      "execution_count": null,
      "outputs": [
        {
          "output_type": "stream",
          "name": "stdout",
          "text": [
            "range(0, 20)\n",
            "<class 'range'>\n"
          ]
        }
      ]
    },
    {
      "cell_type": "code",
      "source": [
        "#Taking User Input from User\n",
        "x = input(\"Enter a Number : \")\n",
        "print(\"You Enter a Number : \",x)\n",
        "\n",
        "#default Datatype is String\n",
        "print(type(x))"
      ],
      "metadata": {
        "colab": {
          "base_uri": "https://localhost:8080/"
        },
        "id": "neM5LP3xj7UK",
        "outputId": "3d82833d-adb1-4abe-afd2-b39ac0266137"
      },
      "execution_count": null,
      "outputs": [
        {
          "output_type": "stream",
          "name": "stdout",
          "text": [
            "Enter a Number : 12\n",
            "You Enter a Number :  12\n",
            "<class 'str'>\n"
          ]
        }
      ]
    },
    {
      "cell_type": "code",
      "source": [
        "x = input(\"Enter First Number : \")\n",
        "y = input(\"Enter Second Number : \")\n",
        "print(\"Addition of two Number is : \",(x+y))\n",
        "#Here Number is concatenated"
      ],
      "metadata": {
        "colab": {
          "base_uri": "https://localhost:8080/"
        },
        "id": "fWiuORkhkFLP",
        "outputId": "d2dd7142-d744-40ef-e8d6-e160d5177202"
      },
      "execution_count": null,
      "outputs": [
        {
          "output_type": "stream",
          "name": "stdout",
          "text": [
            "Enter First Number : 12\n",
            "Enter Second Number : 43\n",
            "Addition of two Number is :  1243\n"
          ]
        }
      ]
    },
    {
      "cell_type": "code",
      "source": [
        "#Taking String Input\n",
        "x = input(\"Enter your name : \")\n",
        "print(\"Hello \",x)\n",
        "print(type(x))"
      ],
      "metadata": {
        "colab": {
          "base_uri": "https://localhost:8080/"
        },
        "id": "BF2eqHr1kNBM",
        "outputId": "faf1b81b-4e26-4461-d69d-8617ac31f1e7"
      },
      "execution_count": null,
      "outputs": [
        {
          "output_type": "stream",
          "name": "stdout",
          "text": [
            "Enter your name : Sagar\n",
            "Hello  Sagar\n",
            "<class 'str'>\n"
          ]
        }
      ]
    },
    {
      "cell_type": "code",
      "source": [
        "#Casting\n",
        "x = int(1)\n",
        "y = int(2.0)\n",
        "z = int(\"3\")\n",
        "print(x)\n",
        "print(y)\n",
        "print(z)\n",
        "print(type(x))\n",
        "print(type(y))\n",
        "print(type(z))"
      ],
      "metadata": {
        "colab": {
          "base_uri": "https://localhost:8080/"
        },
        "id": "RrvihtSpkS2u",
        "outputId": "fb17f673-4e4a-4f6f-87ca-1ec229a991de"
      },
      "execution_count": null,
      "outputs": [
        {
          "output_type": "stream",
          "name": "stdout",
          "text": [
            "1\n",
            "2\n",
            "3\n",
            "<class 'int'>\n",
            "<class 'int'>\n",
            "<class 'int'>\n"
          ]
        }
      ]
    },
    {
      "cell_type": "code",
      "source": [
        "eno = int(input(\"Enter Employee no : \"))\n",
        "ename = input(\"Enter Employee Name : \")\n",
        "esal = float(input(\"Enter Employee Salary : \"))\n",
        "eaddr = input(\"Enter Employee Address : \")\n",
        "married_or_not = input(\"Is Employee is Married or Not[True|False] : \")\n",
        "\n",
        "if married_or_not == \"True\":\n",
        "    married_or_not = True\n",
        "else:\n",
        "    married_or_not = False\n",
        "\n",
        "print(\"\\nEmployee Information is as follows:\")\n",
        "print(\"Employee Number is : \",eno)\n",
        "print(\"Employee Name is : \",ename)\n",
        "print(\"Employee Salary is : \",esal)\n",
        "print(\"Employee Address is : \",eaddr)\n",
        "print(\"Employee is Married or not : \",married_or_not)"
      ],
      "metadata": {
        "colab": {
          "base_uri": "https://localhost:8080/"
        },
        "id": "YZTd6j-MkclR",
        "outputId": "23776453-e0b4-4c4f-a1ac-38290dba26da"
      },
      "execution_count": null,
      "outputs": [
        {
          "output_type": "stream",
          "name": "stdout",
          "text": [
            "Enter Employee no : 12\n",
            "Enter Employee Name : Sagar\n",
            "Enter Employee Salary : 120000\n",
            "Enter Employee Address : Shirpur\n",
            "Is Employee is Married or Not[True|False] : False\n",
            "\n",
            "Employee Information is as follows:\n",
            "Employee Number is :  12\n",
            "Employee Name is :  Sagar\n",
            "Employee Salary is :  120000.0\n",
            "Employee Address is :  Shirpur\n",
            "Employee is Married or not :  False\n"
          ]
        }
      ]
    },
    {
      "cell_type": "code",
      "source": [
        "a = \"Hello World\"\n",
        "print(a[0])\n",
        "print(a[10])"
      ],
      "metadata": {
        "colab": {
          "base_uri": "https://localhost:8080/"
        },
        "id": "S1bzJlaOkd7J",
        "outputId": "eb4ef5c1-09c6-4c24-ecfd-09e42e6bb63b"
      },
      "execution_count": null,
      "outputs": [
        {
          "output_type": "stream",
          "name": "stdout",
          "text": [
            "H\n",
            "d\n"
          ]
        }
      ]
    },
    {
      "cell_type": "code",
      "source": [
        "x = \"Sagar\"\n",
        "print(len(x))"
      ],
      "metadata": {
        "colab": {
          "base_uri": "https://localhost:8080/"
        },
        "id": "6-UPio-8koJR",
        "outputId": "d70816dd-a64c-434b-9841-b76697dd51f0"
      },
      "execution_count": null,
      "outputs": [
        {
          "output_type": "stream",
          "name": "stdout",
          "text": [
            "5\n"
          ]
        }
      ]
    },
    {
      "cell_type": "code",
      "source": [
        "txt = \"The Best Things in the world are free\"\n",
        "if \"free\" in txt:\n",
        "    print(\"expensive\" not in txt)"
      ],
      "metadata": {
        "colab": {
          "base_uri": "https://localhost:8080/"
        },
        "id": "orhjLbBikq8u",
        "outputId": "8d1bb975-204d-4d20-e11d-58203845522b"
      },
      "execution_count": null,
      "outputs": [
        {
          "output_type": "stream",
          "name": "stdout",
          "text": [
            "True\n"
          ]
        }
      ]
    },
    {
      "cell_type": "code",
      "source": [
        "b = \" Hello World\"\n",
        "print(b[2:5])"
      ],
      "metadata": {
        "colab": {
          "base_uri": "https://localhost:8080/"
        },
        "id": "rPeNEKo1kuJa",
        "outputId": "bcb2eb49-a5dc-4622-f267-702227685449"
      },
      "execution_count": null,
      "outputs": [
        {
          "output_type": "stream",
          "name": "stdout",
          "text": [
            "ell\n"
          ]
        }
      ]
    },
    {
      "cell_type": "code",
      "source": [
        "#Control Statements\n",
        "#1. Conditional Statements\n",
        "#    -> if\n",
        "#    -> elif\n",
        "#    -> else\n",
        "#2. Looping Statements\n",
        "#    -> For\n",
        "#    -> While\n",
        "#    -> Break\n",
        "#    -> Continue\n"
      ],
      "metadata": {
        "id": "iOom3VhhlRA_"
      },
      "execution_count": null,
      "outputs": []
    },
    {
      "cell_type": "code",
      "source": [
        "#if\n",
        "num = 12\n",
        "if(num == 12):\n",
        "  print(\"Hello Sagar\")"
      ],
      "metadata": {
        "colab": {
          "base_uri": "https://localhost:8080/"
        },
        "id": "PxPRpaq1nSTe",
        "outputId": "19ad51f8-26e9-4c8d-9926-bd17dff3c1ff"
      },
      "execution_count": null,
      "outputs": [
        {
          "output_type": "stream",
          "name": "stdout",
          "text": [
            "Enter a value of num1: 12\n",
            "Enter a value of num2: 12\n",
            "num1 is equal to num2\n"
          ]
        }
      ]
    },
    {
      "cell_type": "code",
      "source": [
        "#elif\n",
        "num = int(input(\"Enter any Number: \"))\n",
        "if(num % 2 == 0):\n",
        "  print(\"Entered Number is Even\")\n",
        "else:\n",
        "  print(\"Entered Number is Odd\")"
      ],
      "metadata": {
        "colab": {
          "base_uri": "https://localhost:8080/"
        },
        "id": "mGqq4WfWnS1C",
        "outputId": "3dc31c9c-0e4c-45ac-9466-8f4e0f6b7596"
      },
      "execution_count": null,
      "outputs": [
        {
          "output_type": "stream",
          "name": "stdout",
          "text": [
            "Enter any Number: 10\n",
            "Entered Number is Even\n"
          ]
        }
      ]
    },
    {
      "cell_type": "code",
      "source": [
        "#else\n",
        "num1 = int(input(\"Enter a value of num1: \"))\n",
        "num2 = int(input(\"Enter a value of num2: \"))\n",
        "if(num1 == num2):\n",
        "  print(\"num1 is equal to num2\")\n",
        "elif(num1 > num2):\n",
        "  print(\"num1 is greater than num2\")\n",
        "else:\n",
        "  print(\"num2 is greater than num1\")"
      ],
      "metadata": {
        "colab": {
          "base_uri": "https://localhost:8080/"
        },
        "id": "F9PKYt9LnTB1",
        "outputId": "91c945db-c22e-428e-f187-afb32d79742c"
      },
      "execution_count": null,
      "outputs": [
        {
          "output_type": "stream",
          "name": "stdout",
          "text": [
            "Enter a value of num1: 12\n",
            "Enter a value of num2: 34\n",
            "num2 is greater than num1\n"
          ]
        }
      ]
    },
    {
      "cell_type": "code",
      "source": [
        "#While Loop\n",
        "i = 1\n",
        "while i<6:\n",
        "  print(i)\n",
        "  i = i+1"
      ],
      "metadata": {
        "colab": {
          "base_uri": "https://localhost:8080/"
        },
        "id": "rhfgp9BwlSoj",
        "outputId": "a61ba189-894a-4a78-92c9-213e4eaaaee3"
      },
      "execution_count": null,
      "outputs": [
        {
          "output_type": "stream",
          "name": "stdout",
          "text": [
            "1\n",
            "2\n",
            "3\n",
            "4\n",
            "5\n"
          ]
        }
      ]
    },
    {
      "cell_type": "code",
      "source": [
        "i = 1\n",
        "while i < 6:\n",
        "  print(i)\n",
        "  if i == 3:\n",
        "    break\n",
        "  i += 1"
      ],
      "metadata": {
        "colab": {
          "base_uri": "https://localhost:8080/"
        },
        "id": "Q8E6rQcglUfL",
        "outputId": "14e90d3f-a642-4733-8619-42cd073dd082"
      },
      "execution_count": null,
      "outputs": [
        {
          "output_type": "stream",
          "name": "stdout",
          "text": [
            "1\n",
            "2\n",
            "3\n"
          ]
        }
      ]
    },
    {
      "cell_type": "code",
      "source": [
        "i = 1\n",
        "while i < 6:\n",
        "  i += 1\n",
        "  if i == 3:\n",
        "    continue\n",
        "  print(i)"
      ],
      "metadata": {
        "colab": {
          "base_uri": "https://localhost:8080/"
        },
        "id": "o0uNK8FqlX52",
        "outputId": "1aeb1d1a-99cf-44c3-8b40-7b93ffb0a2fb"
      },
      "execution_count": null,
      "outputs": [
        {
          "output_type": "stream",
          "name": "stdout",
          "text": [
            "2\n",
            "4\n",
            "5\n",
            "6\n"
          ]
        }
      ]
    },
    {
      "cell_type": "code",
      "source": [
        "i = 1\n",
        "while i < 6:\n",
        "  print(i)\n",
        "  i += 1\n",
        "else:\n",
        "  print(\"i is no longer than 6\")"
      ],
      "metadata": {
        "colab": {
          "base_uri": "https://localhost:8080/"
        },
        "id": "31bEzM32lYk_",
        "outputId": "6ef4a167-66ec-4951-c217-bf65d60b675e"
      },
      "execution_count": null,
      "outputs": [
        {
          "output_type": "stream",
          "name": "stdout",
          "text": [
            "1\n",
            "2\n",
            "3\n",
            "4\n",
            "5\n",
            "i is no longer than 6\n"
          ]
        }
      ]
    },
    {
      "cell_type": "code",
      "source": [
        "#For Loop over a List\n",
        "fruits = [\"Apple\", \"Mango\", \"Bannana\"]\n",
        "for x in fruits:\n",
        "  print(x)#For Loop over a List\n",
        "fruits = [\"Apple\", \"Mango\", \"Bannana\"]\n",
        "for x in fruits:\n",
        "  print(x)"
      ],
      "metadata": {
        "colab": {
          "base_uri": "https://localhost:8080/"
        },
        "id": "QUwdY9bhle5r",
        "outputId": "fabeb63d-c0a8-498b-93ad-d40fe0d912fc"
      },
      "execution_count": null,
      "outputs": [
        {
          "output_type": "stream",
          "name": "stdout",
          "text": [
            "Apple\n",
            "Mango\n",
            "Bannana\n"
          ]
        }
      ]
    },
    {
      "cell_type": "code",
      "source": [
        "#For Loop over a String\n",
        "for x in \"Bannana\":\n",
        "  print(x)"
      ],
      "metadata": {
        "colab": {
          "base_uri": "https://localhost:8080/"
        },
        "id": "u5spLNZrlgTD",
        "outputId": "c61f9611-a116-48d7-ef1f-371b243f547a"
      },
      "execution_count": null,
      "outputs": [
        {
          "output_type": "stream",
          "name": "stdout",
          "text": [
            "B\n",
            "a\n",
            "n\n",
            "n\n",
            "a\n",
            "n\n",
            "a\n"
          ]
        }
      ]
    },
    {
      "cell_type": "code",
      "source": [
        "#For Loop over a Tuple\n",
        "fruits = (\"Apple\",\"Mango\",\"Bannana\",\"cherry\")\n",
        "for x in fruits:\n",
        "  print(x)"
      ],
      "metadata": {
        "colab": {
          "base_uri": "https://localhost:8080/"
        },
        "id": "OuKj5ljAliD1",
        "outputId": "195f95f4-f2be-46f5-9adb-ce4b0f0d10f6"
      },
      "execution_count": null,
      "outputs": [
        {
          "output_type": "stream",
          "name": "stdout",
          "text": [
            "Apple\n",
            "Mango\n",
            "Bannana\n",
            "cherry\n"
          ]
        }
      ]
    },
    {
      "cell_type": "code",
      "source": [
        "#For Loop over a Dictionary\n",
        "fruits = {\"Apple\",\"Mango\",\"Bannana\",\"cherry\"}\n",
        "for x in fruits:\n",
        "  print(x)"
      ],
      "metadata": {
        "colab": {
          "base_uri": "https://localhost:8080/"
        },
        "id": "h5JJjAzGll20",
        "outputId": "540a7b07-726f-41f4-fba8-2bc6222df14b"
      },
      "execution_count": null,
      "outputs": [
        {
          "output_type": "stream",
          "name": "stdout",
          "text": [
            "Mango\n",
            "Apple\n",
            "Bannana\n",
            "cherry\n"
          ]
        }
      ]
    },
    {
      "cell_type": "code",
      "source": [
        "fruits = [\"Apple\", \"Mango\", \"Bannana\",\"Cherry\"]\n",
        "for x in fruits:\n",
        "  print(x)\n",
        "  if x == \"Bannana\":\n",
        "    break"
      ],
      "metadata": {
        "colab": {
          "base_uri": "https://localhost:8080/"
        },
        "id": "abao5gNVlnqb",
        "outputId": "fee613ea-3e4b-4795-82e7-c6a55f93929c"
      },
      "execution_count": null,
      "outputs": [
        {
          "output_type": "stream",
          "name": "stdout",
          "text": [
            "Apple\n",
            "Mango\n",
            "Bannana\n"
          ]
        }
      ]
    },
    {
      "cell_type": "code",
      "source": [
        "fruits = [\"Apple\", \"Mango\", \"Bannana\",\"Cherry\"]\n",
        "for x in fruits:\n",
        "  if x == \"Bannana\":\n",
        "    break\n",
        "  print(x)"
      ],
      "metadata": {
        "colab": {
          "base_uri": "https://localhost:8080/"
        },
        "id": "7s9BJKTvlqpC",
        "outputId": "07f20eb1-09d8-4355-a6b7-5d55f12b5d87"
      },
      "execution_count": null,
      "outputs": [
        {
          "output_type": "stream",
          "name": "stdout",
          "text": [
            "Apple\n",
            "Mango\n"
          ]
        }
      ]
    },
    {
      "cell_type": "code",
      "source": [
        "#Break\n",
        "for i in range(1, 11):\n",
        "    if i == 5:\n",
        "        break  # Exit the loop when i equals 5\n",
        "    print(i)"
      ],
      "metadata": {
        "colab": {
          "base_uri": "https://localhost:8080/"
        },
        "id": "osCJ3uygowLT",
        "outputId": "fad0d5fe-58b9-4e90-cda2-0803cca357e6"
      },
      "execution_count": null,
      "outputs": [
        {
          "output_type": "stream",
          "name": "stdout",
          "text": [
            "1\n",
            "2\n",
            "3\n",
            "4\n"
          ]
        }
      ]
    },
    {
      "cell_type": "code",
      "source": [
        "#Continue\n",
        "for i in range(1, 11):\n",
        "    if i % 2 == 0:\n",
        "        continue   # Skip even numbers\n",
        "    print(i)"
      ],
      "metadata": {
        "colab": {
          "base_uri": "https://localhost:8080/"
        },
        "id": "k-aMsu4-o-mA",
        "outputId": "39918530-0f0d-41c6-fda3-68521d8fa81f"
      },
      "execution_count": null,
      "outputs": [
        {
          "output_type": "stream",
          "name": "stdout",
          "text": [
            "1\n",
            "3\n",
            "5\n",
            "7\n",
            "9\n"
          ]
        }
      ]
    }
  ]
}