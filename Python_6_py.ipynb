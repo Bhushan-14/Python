{
  "nbformat": 4,
  "nbformat_minor": 0,
  "metadata": {
    "colab": {
      "provenance": [],
      "authorship_tag": "ABX9TyNAEFOyVnANwqL5LMdvHeSh",
      "include_colab_link": true
    },
    "kernelspec": {
      "name": "python3",
      "display_name": "Python 3"
    },
    "language_info": {
      "name": "python"
    }
  },
  "cells": [
    {
      "cell_type": "markdown",
      "metadata": {
        "id": "view-in-github",
        "colab_type": "text"
      },
      "source": [
        "<a href=\"https://colab.research.google.com/github/Bhushan-14/Python/blob/main/Python_6_py.ipynb\" target=\"_parent\"><img src=\"https://colab.research.google.com/assets/colab-badge.svg\" alt=\"Open In Colab\"/></a>"
      ]
    },
    {
      "cell_type": "code",
      "source": [
        "#Python OOPs Concepts\n",
        "#Like other general purpose programmming language, Python is also an object oriented programming language since its begining"
      ],
      "metadata": {
        "id": "Moa8IXxjx5jX"
      },
      "execution_count": null,
      "outputs": []
    },
    {
      "cell_type": "code",
      "execution_count": null,
      "metadata": {
        "id": "BWtc0XIQxs9F"
      },
      "outputs": [],
      "source": [
        "#Class\n",
        "#The class can be defined as a collection of objects. It is a logical entity, that has some specific attributes and methods."
      ]
    },
    {
      "cell_type": "code",
      "source": [
        "#Object\n",
        "#The Object is an entity that has state and behaviour. It may be any real world object like the mouse, keyboard, chair, etc."
      ],
      "metadata": {
        "id": "WmADKaJ3zJN-"
      },
      "execution_count": null,
      "outputs": []
    },
    {
      "cell_type": "code",
      "source": [
        "class car:\n",
        "  def __init__ (self, model_name, year):\n",
        "    self.model_name = model_name\n",
        "    self.year = year\n",
        "\n",
        "  def display(self):\n",
        "    print(self.model_name,self.year)\n",
        "\n",
        "model_name = input(\"Enter car model name: \")\n",
        "year = int(input(\"Enter car manufacturing year: \"))\n",
        "c1 = car(model_name,year)\n",
        "c1.display()"
      ],
      "metadata": {
        "colab": {
          "base_uri": "https://localhost:8080/"
        },
        "id": "xdu35U7ZzdkH",
        "outputId": "d5896685-5831-4230-9694-ee71c985fc68"
      },
      "execution_count": null,
      "outputs": [
        {
          "output_type": "stream",
          "name": "stdout",
          "text": [
            "Enter car model name: Toyata\n",
            "Enter car manufacturing year: 2007\n",
            "Toyata 2007\n"
          ]
        }
      ]
    },
    {
      "cell_type": "code",
      "source": [
        "#MyClass() is constructor here\n",
        "#Constructor is special method which has same name as class name\n",
        "class MyClass:\n",
        "  x = 87\n",
        "p1 = MyClass()\n",
        "print(p1.x)"
      ],
      "metadata": {
        "colab": {
          "base_uri": "https://localhost:8080/"
        },
        "id": "r_LDfg2CzJS5",
        "outputId": "ed82ee48-097a-450f-cd4f-c281875316e9"
      },
      "execution_count": null,
      "outputs": [
        {
          "output_type": "stream",
          "name": "stdout",
          "text": [
            "87\n"
          ]
        }
      ]
    },
    {
      "cell_type": "code",
      "source": [
        "#init() method\n",
        "#All classes have function name init(), which is always executed when the class is being initiated.\n",
        "#Use the init() function to assign values to object properties or other opeations."
      ],
      "metadata": {
        "id": "G6C69blq1hOu"
      },
      "execution_count": null,
      "outputs": []
    },
    {
      "cell_type": "code",
      "source": [
        "#Self represents instance of class and binds te=he attributes with given arguments\n",
        "class person:\n",
        "  def __init__ (self,name,age):\n",
        "    self.name = name\n",
        "    self.age = age\n",
        "\n",
        "p1 = person(\"sagar\",12)\n",
        "print(p1.name)\n",
        "print(p1.age)"
      ],
      "metadata": {
        "colab": {
          "base_uri": "https://localhost:8080/"
        },
        "id": "nWcz7wiK2HxZ",
        "outputId": "a9b4a02a-7903-4658-bced-3facad330667"
      },
      "execution_count": null,
      "outputs": [
        {
          "output_type": "stream",
          "name": "stdout",
          "text": [
            "Jhon\n",
            "12\n"
          ]
        }
      ]
    },
    {
      "cell_type": "code",
      "source": [
        "#Object Methods\n",
        "#Object can also contain mathods>\n",
        "#Methods in objects are functions that belong in the object."
      ],
      "metadata": {
        "id": "kJwxPbnS3-B-"
      },
      "execution_count": null,
      "outputs": []
    },
    {
      "cell_type": "code",
      "source": [
        "class person:\n",
        "  def __init__ (self,name,age):\n",
        "    self.name = name\n",
        "    self.age = age\n",
        "  def myfunc(self):\n",
        "    print(\"Hello my name is \",self.name)\n",
        "p1 = person(\"sagar\",19)\n",
        "p1.myfunc()"
      ],
      "metadata": {
        "colab": {
          "base_uri": "https://localhost:8080/"
        },
        "id": "Sn2I9O2s4WcW",
        "outputId": "9b9d1180-be09-42ea-828b-89d044db35c4"
      },
      "execution_count": null,
      "outputs": [
        {
          "output_type": "stream",
          "name": "stdout",
          "text": [
            "Hello my name is  sagar\n"
          ]
        }
      ]
    },
    {
      "cell_type": "code",
      "source": [
        "class person:\n",
        "  def __init__(self,name,age):\n",
        "    self.name = name\n",
        "    self.age = age\n",
        "  def myfunc(self):\n",
        "    print(\"Hello my name is \",self.name)\n",
        "p1 = person(\"sagar\",19)\n",
        "p1.age = 20\n",
        "p1.myfunc()\n",
        "print(\"I am \",p1.age,\" year old\")"
      ],
      "metadata": {
        "colab": {
          "base_uri": "https://localhost:8080/"
        },
        "id": "d5Iu3Lwd5p6V",
        "outputId": "4ebfdcb2-869d-4bad-a85b-f33050ccb387"
      },
      "execution_count": null,
      "outputs": [
        {
          "output_type": "stream",
          "name": "stdout",
          "text": [
            "Hello my name is  sagar\n",
            "I am  20  year old\n"
          ]
        }
      ]
    },
    {
      "cell_type": "code",
      "source": [
        "#Python Inheritance\n",
        "#Inheritance allows us to define a calss that inherits all the methods and proprties from another class.\n",
        "#Parents class is the class being inherits from also called base class\n",
        "#child class is the class that inherits form another class also called derived class"
      ],
      "metadata": {
        "id": "ZO7tRB706QDf"
      },
      "execution_count": null,
      "outputs": []
    },
    {
      "cell_type": "code",
      "source": [
        "#Create a parent class\n",
        "\n",
        "class person:\n",
        "  def __init__ (self,fname,lname):\n",
        "    self.fname = fname\n",
        "    self.lname = lname\n",
        "  def printname(self):\n",
        "    print(self.fname,self.lname)\n",
        "x = person(\"sagar\",\"patil\")\n",
        "x.printname()"
      ],
      "metadata": {
        "colab": {
          "base_uri": "https://localhost:8080/"
        },
        "id": "g98H1j8Z7CKz",
        "outputId": "c56924bf-b627-4084-d7ba-dec87bf216fb"
      },
      "execution_count": null,
      "outputs": [
        {
          "output_type": "stream",
          "name": "stdout",
          "text": [
            "sagar patil\n"
          ]
        }
      ]
    },
    {
      "cell_type": "code",
      "source": [
        "#create child class\n",
        "class person:\n",
        "  def __init__ (self,fname,lname):\n",
        "    self.fname = fname\n",
        "    self.lname = lname\n",
        "  def printname(self):\n",
        "    print(self.fname,self.lname)\n",
        "\n",
        "class student(person):\n",
        "  pass\n",
        "x = person(\"sagar\",\"patil\")\n",
        "x.printname()\n"
      ],
      "metadata": {
        "colab": {
          "base_uri": "https://localhost:8080/"
        },
        "id": "lLtQJmjr9n76",
        "outputId": "92b51ec7-8897-4857-8c7d-b7bdd8dc0589"
      },
      "execution_count": null,
      "outputs": [
        {
          "output_type": "stream",
          "name": "stdout",
          "text": [
            "sagar patil\n"
          ]
        }
      ]
    },
    {
      "cell_type": "code",
      "source": [
        "#Add the init() function\n",
        "#so far we create child class which inherits the properies and methods from parent\n",
        "#we want to add"
      ],
      "metadata": {
        "id": "8Wo-ztZi-XHc"
      },
      "execution_count": null,
      "outputs": []
    },
    {
      "cell_type": "code",
      "source": [
        "class person:\n",
        "  def __init__ (self,fname,lname):\n",
        "    self.fname = fname\n",
        "    self.lname = lname\n",
        "  def printname(self):\n",
        "    print(self.fname,self.lname)\n",
        "\n",
        "class student(person):\n",
        "   def __init__ (self,fname,lname):\n",
        "    person.__init__ (self,fname,lname)\n",
        "\n",
        "x = person(\"sagar\",\"patil\")\n",
        "x.printname()\n"
      ],
      "metadata": {
        "colab": {
          "base_uri": "https://localhost:8080/"
        },
        "id": "riHfI_Tt-_go",
        "outputId": "66b09993-9f37-470b-a11a-78ae2357dc1f"
      },
      "execution_count": null,
      "outputs": [
        {
          "output_type": "stream",
          "name": "stdout",
          "text": [
            "sagar patil\n"
          ]
        }
      ]
    },
    {
      "cell_type": "code",
      "source": [
        "#Super() Function\n",
        "#Python has also super fuunction that will make the child class inherit all the methods and properties from the parent."
      ],
      "metadata": {
        "id": "oIBQkeoJ_Vi2"
      },
      "execution_count": null,
      "outputs": []
    },
    {
      "cell_type": "code",
      "source": [
        "class person:\n",
        "  def __init__ (self,fname,lname):\n",
        "    self.fname = fname\n",
        "    self.lname = lname\n",
        "  def printname(self):\n",
        "    print(self.fname,self.lname)\n",
        "\n",
        "class student(person):\n",
        "   def __init__ (self,fname,lname):\n",
        "    super().__init__ (fname,lname)\n",
        "\n",
        "x = person(\"sagar\",\"patil\")\n",
        "x.printname()\n"
      ],
      "metadata": {
        "colab": {
          "base_uri": "https://localhost:8080/"
        },
        "id": "gBar115cAHvV",
        "outputId": "907db2d3-9475-4c29-c0c7-d2879fbe857d"
      },
      "execution_count": null,
      "outputs": [
        {
          "output_type": "stream",
          "name": "stdout",
          "text": [
            "sagar patil\n"
          ]
        }
      ]
    },
    {
      "cell_type": "code",
      "source": [
        "#Add Method\n",
        "class person:\n",
        "  def __init__ (self,fname,lname):\n",
        "    self.fname = fname\n",
        "    self.lname = lname\n",
        "  def printname(self):\n",
        "    print(self.fname,self.lname)\n",
        "\n",
        "class student(person):\n",
        "  def __init__ (self,fname,lname,year):\n",
        "    super().__init__ (fname,lname)\n",
        "    self.graduationyear = year\n",
        "  def welcome(self):\n",
        "    print(\"Welcome \",self.fname,self.lname,\" to the class of \",self.graduationyear)\n",
        "x = student(\"sagar\",\"patil\",2019)\n",
        "x.welcome()\n"
      ],
      "metadata": {
        "colab": {
          "base_uri": "https://localhost:8080/"
        },
        "id": "3shrt1NPA9xg",
        "outputId": "b91778e8-7db8-47fe-ec44-c9f7f91c247e"
      },
      "execution_count": null,
      "outputs": [
        {
          "output_type": "stream",
          "name": "stdout",
          "text": [
            "Welcome  sagar patil  to the class of  2019\n"
          ]
        }
      ]
    },
    {
      "cell_type": "code",
      "source": [
        "#Class and object in Python:\n",
        "class Student():  #Parent class\n",
        "  def __init__(self, name, cls, div, roll_no):\n",
        "    self.name = name\n",
        "    self.cls = cls\n",
        "    self.div = div\n",
        "    self.roll_no = roll_no\n",
        "  def display(self):\n",
        "    print(\"\\n Student details: \")\n",
        "    print(\"Name: \",self.name)\n",
        "    print(\"Class: \",self.cls)\n",
        "    print(\"Division: \",self.div)\n",
        "    print(\"Roll Number: \",self.roll_no)\n",
        "name = input(\"Enter your name: \")\n",
        "cls = input(\"Enter your class: \")\n",
        "div = input(\"Enter your division: \")\n",
        "roll_no = int(input(\"Enter your Roll Number: \"))\n",
        "\n",
        "s = Student(name,cls,div,roll_no) #object of parent class\n",
        "s.display()\n",
        "\n",
        "class BTechStudent(Student):  #Child class\n",
        "  def get_name(self,name):\n",
        "    print(\"My name is: \",self.name)\n",
        "\n",
        "b = BTechStudent(name,cls,div,roll_no) #Object of Child Class\n",
        "b.get_name(name)\n",
        ""
      ],
      "metadata": {
        "colab": {
          "base_uri": "https://localhost:8080/"
        },
        "id": "o-GLcb2eAl0p",
        "outputId": "ce68b67a-cfd5-4ab8-e42e-9e0150ef6ffd"
      },
      "execution_count": 3,
      "outputs": [
        {
          "output_type": "stream",
          "name": "stdout",
          "text": [
            "Enter your name: Sagar\n",
            "Enter your class: TyBtech\n",
            "Enter your division: B\n",
            "Enter your Roll Number: 91\n",
            "\n",
            " Student details: \n",
            "Name:  Sagar\n",
            "Class:  TyBtech\n",
            "Division:  B\n",
            "Roll Number:  91\n",
            "My name is:  Sagar\n"
          ]
        }
      ]
    }
  ]
}