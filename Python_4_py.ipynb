{
  "nbformat": 4,
  "nbformat_minor": 0,
  "metadata": {
    "colab": {
      "provenance": [],
      "authorship_tag": "ABX9TyOY9KEGyTqJn+akgkV4Ub0F",
      "include_colab_link": true
    },
    "kernelspec": {
      "name": "python3",
      "display_name": "Python 3"
    },
    "language_info": {
      "name": "python"
    }
  },
  "cells": [
    {
      "cell_type": "markdown",
      "metadata": {
        "id": "view-in-github",
        "colab_type": "text"
      },
      "source": [
        "<a href=\"https://colab.research.google.com/github/Bhushan-14/Python/blob/main/Python_4_py.ipynb\" target=\"_parent\"><img src=\"https://colab.research.google.com/assets/colab-badge.svg\" alt=\"Open In Colab\"/></a>"
      ]
    },
    {
      "cell_type": "code",
      "execution_count": null,
      "metadata": {
        "id": "q-O9iEh4vqhg"
      },
      "outputs": [],
      "source": [
        "#List is a muttable"
      ]
    },
    {
      "cell_type": "code",
      "source": [
        "#list examples\n",
        "list1 = [\"Sagar\", 124, True, \"male\"]\n",
        "print(type(list))\n",
        "print(list1)\n",
        "\n",
        "#<class 'type'> is metaclass which contains details about other sub calsses"
      ],
      "metadata": {
        "colab": {
          "base_uri": "https://localhost:8080/"
        },
        "id": "VxCzmnr1vt_i",
        "outputId": "278824cc-237b-47dc-9f41-0b0974d8eb35"
      },
      "execution_count": 6,
      "outputs": [
        {
          "output_type": "stream",
          "name": "stdout",
          "text": [
            "<class 'type'>\n",
            "['Sagar', 124, True, 'male']\n"
          ]
        }
      ]
    },
    {
      "cell_type": "code",
      "source": [
        "fruit = [\"Apple\", \"Mango\", \"Cherry\"]\n",
        "print(type(fruit))\n"
      ],
      "metadata": {
        "colab": {
          "base_uri": "https://localhost:8080/"
        },
        "id": "CHeYZnvwwDca",
        "outputId": "9603b29f-48d9-4fe4-fd30-55b2d1b5f226"
      },
      "execution_count": 4,
      "outputs": [
        {
          "output_type": "stream",
          "name": "stdout",
          "text": [
            "<class 'list'>\n"
          ]
        }
      ]
    },
    {
      "cell_type": "code",
      "source": [
        "bool = [True, False, False]\n",
        "print(type(bool))"
      ],
      "metadata": {
        "colab": {
          "base_uri": "https://localhost:8080/"
        },
        "id": "gFF8dWv3xH6F",
        "outputId": "b7274d75-70c3-4713-8dd4-24d0bc1d0592"
      },
      "execution_count": 7,
      "outputs": [
        {
          "output_type": "stream",
          "name": "stdout",
          "text": [
            "<class 'list'>\n"
          ]
        }
      ]
    },
    {
      "cell_type": "code",
      "source": [
        "#Range of indexes\n",
        "l1 = [\"Apple\",\"Bannana\",\"Cherry\",\"Guava\",\"Kiwi\",\"Mango\"]\n",
        "print(l1[2:5])\n",
        "print(l1[:4])\n",
        "print(l1[:])"
      ],
      "metadata": {
        "colab": {
          "base_uri": "https://localhost:8080/"
        },
        "id": "yPHBY9cExYU3",
        "outputId": "0bb12bcb-a6e2-42c6-9e96-d4fd630484a9"
      },
      "execution_count": 18,
      "outputs": [
        {
          "output_type": "stream",
          "name": "stdout",
          "text": [
            "['Cherry', 'Guava', 'Kiwi']\n",
            "['Apple', 'Bannana', 'Cherry', 'Guava']\n",
            "['Apple', 'Bannana', 'Cherry', 'Guava', 'Kiwi', 'Mango']\n"
          ]
        }
      ]
    },
    {
      "cell_type": "code",
      "source": [
        "#Range of negative Indexes\n",
        "l1 = [\"Apple\",\"Bannana\",\"Cherry\",\"Guava\",\"Kiwi\",\"Mango\"]\n",
        "print(l1[-4:-1])\n",
        "print(l1[4:-1])"
      ],
      "metadata": {
        "colab": {
          "base_uri": "https://localhost:8080/"
        },
        "id": "ejpOtG9Oycpi",
        "outputId": "7d7946a5-8dbd-475f-d41d-1da25ad05e7e"
      },
      "execution_count": 33,
      "outputs": [
        {
          "output_type": "stream",
          "name": "stdout",
          "text": [
            "['Cherry', 'Guava', 'Kiwi']\n",
            "['Kiwi']\n"
          ]
        }
      ]
    },
    {
      "cell_type": "code",
      "source": [
        "l1 = [\"Apple\",\"Bannana\",\"Cherry\",\"Guava\",\"Kiwi\",\"Mango\"]\n",
        "l1[1] = \"BlackCurrent\"\n",
        "print(l1)"
      ],
      "metadata": {
        "colab": {
          "base_uri": "https://localhost:8080/"
        },
        "id": "con9tOMG0vGK",
        "outputId": "66c2bc3c-9331-489e-bfe9-b43e37ac11a2"
      },
      "execution_count": 36,
      "outputs": [
        {
          "output_type": "stream",
          "name": "stdout",
          "text": [
            "['Apple', 'BlackCurrent', 'Cherry', 'Guava', 'Kiwi', 'Mango']\n"
          ]
        }
      ]
    },
    {
      "cell_type": "code",
      "source": [
        "l1 = [\"Apple\",\"Bannana\",\"Cherry\",\"Guava\",\"Kiwi\",\"Mango\"]\n",
        "l1[1:3] = [\"BlackCurrent\",\"WaterMelon\"]\n",
        "print(l1)"
      ],
      "metadata": {
        "colab": {
          "base_uri": "https://localhost:8080/"
        },
        "id": "jZdb4Wibyukc",
        "outputId": "f52c932d-d0ab-41e4-8d77-682026ff36f8"
      },
      "execution_count": 41,
      "outputs": [
        {
          "output_type": "stream",
          "name": "stdout",
          "text": [
            "['Apple', 'BlackCurrent', 'WaterMelon', 'Guava', 'Kiwi', 'Mango']\n"
          ]
        }
      ]
    },
    {
      "cell_type": "code",
      "source": [
        "l1 = [\"Apple\",\"Bannana\",\"Cherry\",\"Guava\",\"Kiwi\",\"Mango\"]\n",
        "print(len(l1))\n",
        "l1[1:] = [\"Papaya\"]\n",
        "print(l1)\n",
        "print(len(l1))"
      ],
      "metadata": {
        "colab": {
          "base_uri": "https://localhost:8080/"
        },
        "id": "KOuCSk4Z1R8C",
        "outputId": "7478d525-73ff-416f-8bd8-bcc12ac7df2b"
      },
      "execution_count": 46,
      "outputs": [
        {
          "output_type": "stream",
          "name": "stdout",
          "text": [
            "6\n",
            "['Apple', 'Papaya']\n",
            "2\n"
          ]
        }
      ]
    },
    {
      "cell_type": "code",
      "source": [
        "#using append method we can insert element at the end of list\n",
        "l1 = [\"apple\",\"mango\",\"Bannana\"]\n",
        "print(len(l1))\n",
        "l1.append(\"Orange\")\n",
        "print(l1)\n",
        "print(len(l1))"
      ],
      "metadata": {
        "colab": {
          "base_uri": "https://localhost:8080/"
        },
        "id": "fMv3ZPsW13Gv",
        "outputId": "33eadca0-a155-45f4-897e-d4c659b37744"
      },
      "execution_count": 48,
      "outputs": [
        {
          "output_type": "stream",
          "name": "stdout",
          "text": [
            "3\n",
            "['apple', 'mango', 'Bannana', 'Orange']\n",
            "4\n"
          ]
        }
      ]
    },
    {
      "cell_type": "code",
      "source": [
        "#using insert method we can insert element at after given particular index\n",
        "l1 = [\"apple\",\"mango\",\"Bannana\"]\n",
        "l1.insert(2,\"Orange\")\n",
        "print(l1)"
      ],
      "metadata": {
        "colab": {
          "base_uri": "https://localhost:8080/"
        },
        "id": "oI5epGYP2H27",
        "outputId": "7732fbcb-9e4c-42a7-e47f-8383fdcc63ac"
      },
      "execution_count": 49,
      "outputs": [
        {
          "output_type": "stream",
          "name": "stdout",
          "text": [
            "['apple', 'mango', 'Orange', 'Bannana']\n"
          ]
        }
      ]
    },
    {
      "cell_type": "code",
      "source": [
        "#using extend method we can append one list with another\n",
        "l1 = [\"apple\",\"mango\",\"Bannana\"]\n",
        "l2 = [\"Cherry\",\"Papaya\"]\n",
        "\n",
        "l1.extend(l2)\n",
        "print(l1)\n",
        "\n",
        "l2.extend(l1)\n",
        "print(l2)"
      ],
      "metadata": {
        "colab": {
          "base_uri": "https://localhost:8080/"
        },
        "id": "5yXxNmzy2LTR",
        "outputId": "a4610fe7-cb05-4c2d-9cde-f68c2aa5b54d"
      },
      "execution_count": 52,
      "outputs": [
        {
          "output_type": "stream",
          "name": "stdout",
          "text": [
            "['apple', 'mango', 'Bannana', 'Cherry', 'Papaya']\n",
            "['Cherry', 'Papaya', 'apple', 'mango', 'Bannana', 'Cherry', 'Papaya']\n"
          ]
        }
      ]
    },
    {
      "cell_type": "code",
      "source": [
        "#using remove function we can remove the specific item\n",
        "l1 = [\"apple\",\"mango\",\"Bannana\",]\n",
        "l2 = [\"apple\",\"mango\",\"Bannana\",\"mango\"]\n",
        "\n",
        "l1.remove(\"Bannana\")\n",
        "print(l1)\n",
        "\n",
        "l2.remove(\"mango\")\n",
        "print(l2)"
      ],
      "metadata": {
        "colab": {
          "base_uri": "https://localhost:8080/"
        },
        "id": "NYrkST1M3UJE",
        "outputId": "b614346f-2291-4402-a16e-1a5d9460551d"
      },
      "execution_count": 57,
      "outputs": [
        {
          "output_type": "stream",
          "name": "stdout",
          "text": [
            "['apple', 'mango']\n",
            "['apple', 'Bannana', 'mango']\n"
          ]
        }
      ]
    },
    {
      "cell_type": "code",
      "source": [
        "#using pop method we can remove element from list if index is not specified it removes from last index\n",
        "l1 = [\"apple\",\"mango\",\"Bannana\"]\n",
        "l3 = l1.pop(1)\n",
        "print(l1)\n",
        "print(l3)\n",
        "\n",
        "l2 = [\"apple\",\"mango\",\"Bannana\",\"mango\"]\n",
        "l2.pop(2)\n",
        "print(l2)"
      ],
      "metadata": {
        "colab": {
          "base_uri": "https://localhost:8080/"
        },
        "id": "7XChREUQ4CSv",
        "outputId": "57923e04-194b-4009-db75-b26675a9f330"
      },
      "execution_count": 63,
      "outputs": [
        {
          "output_type": "stream",
          "name": "stdout",
          "text": [
            "['apple', 'Bannana']\n",
            "mango\n",
            "['apple', 'mango', 'mango']\n"
          ]
        }
      ]
    },
    {
      "cell_type": "code",
      "source": [
        "#del and clear keywords are remove complete list\n",
        "#del keyword directly removes list from location\n",
        "#clear removes data-items from list but not list\n",
        "l1 = [\"apple\",\"mango\",\"Bannana\"]\n",
        "del l1\n",
        "#print(l1)\n",
        "\n",
        "l2 = [\"apple\",\"mango\",\"Bannana\"]\n",
        "l2.clear()\n",
        "print(l2)"
      ],
      "metadata": {
        "colab": {
          "base_uri": "https://localhost:8080/"
        },
        "id": "2FFPTb0b488T",
        "outputId": "35a37b35-b9b3-4fb9-d738-3d36097e1600"
      },
      "execution_count": 69,
      "outputs": [
        {
          "output_type": "stream",
          "name": "stdout",
          "text": [
            "[]\n"
          ]
        }
      ]
    },
    {
      "cell_type": "code",
      "source": [
        "#for loop on list\n",
        "\n",
        "l1 = [\"apple\",\"mango\",\"Bannana\"]\n",
        "for x in l1:\n",
        "  print(x)\n"
      ],
      "metadata": {
        "colab": {
          "base_uri": "https://localhost:8080/"
        },
        "id": "n_dH5Vsq5MLF",
        "outputId": "8ab0953a-3c37-46b6-c748-b43a890b12ff"
      },
      "execution_count": 71,
      "outputs": [
        {
          "output_type": "stream",
          "name": "stdout",
          "text": [
            "apple\n",
            "mango\n",
            "Bannana\n"
          ]
        }
      ]
    },
    {
      "cell_type": "code",
      "source": [
        "l1 = [\"apple\",\"mango\",\"Bannana\"]\n",
        "for i in range(len(l1)):\n",
        "  print(l1[i])"
      ],
      "metadata": {
        "colab": {
          "base_uri": "https://localhost:8080/"
        },
        "id": "7LhbWtMd67KU",
        "outputId": "a0660d7a-600a-4934-f339-2c4fd91bfebb"
      },
      "execution_count": 73,
      "outputs": [
        {
          "output_type": "stream",
          "name": "stdout",
          "text": [
            "apple\n",
            "mango\n",
            "Bannana\n"
          ]
        }
      ]
    },
    {
      "cell_type": "code",
      "source": [
        "#reverse a list\n",
        "l1 = [\"apple\",\"mango\",\"Bannana\"]\n",
        "r_l1 = []\n",
        "for i in l1:\n",
        "  r_l1 = [i] + r_l1\n",
        "print(r_l1)"
      ],
      "metadata": {
        "colab": {
          "base_uri": "https://localhost:8080/"
        },
        "id": "khbH8JVB7cur",
        "outputId": "87b63911-a665-4083-af10-a87445da95bc"
      },
      "execution_count": 85,
      "outputs": [
        {
          "output_type": "stream",
          "name": "stdout",
          "text": [
            "['Bannana', 'mango', 'apple']\n"
          ]
        }
      ]
    },
    {
      "cell_type": "code",
      "source": [
        "l1 = [\"apple\",\"mango\",\"Bannana\"]\n",
        "[print(x) for x in l1]"
      ],
      "metadata": {
        "colab": {
          "base_uri": "https://localhost:8080/"
        },
        "id": "WhO7oXcu72D6",
        "outputId": "fd106555-f41e-45ed-f168-ba2f3ecb66e2"
      },
      "execution_count": 76,
      "outputs": [
        {
          "output_type": "stream",
          "name": "stdout",
          "text": [
            "apple\n",
            "mango\n",
            "Bannana\n"
          ]
        },
        {
          "output_type": "execute_result",
          "data": {
            "text/plain": [
              "[None, None, None]"
            ]
          },
          "metadata": {},
          "execution_count": 76
        }
      ]
    },
    {
      "cell_type": "code",
      "source": [
        "#list comprehension\n",
        "l1 = [\"apple\",\"mango\",\"Bannana\"]\n",
        "n_l1 = []\n",
        "for x in l1:\n",
        "  if \"a\" in x:\n",
        "    n_l1.append(x)\n",
        "print(n_l1)"
      ],
      "metadata": {
        "colab": {
          "base_uri": "https://localhost:8080/"
        },
        "id": "zhM1uToa8Kta",
        "outputId": "73382017-cefc-48b1-b642-394e420f3a29"
      },
      "execution_count": 88,
      "outputs": [
        {
          "output_type": "stream",
          "name": "stdout",
          "text": [
            "['apple', 'mango', 'Bannana']\n"
          ]
        }
      ]
    },
    {
      "cell_type": "code",
      "source": [
        "l1 = [\"apple\",\"mango\",\"Bannana\"]\n",
        "n_l1 = [x for x in l1 if \"a\" in x]\n",
        "print(n_l1)"
      ],
      "metadata": {
        "colab": {
          "base_uri": "https://localhost:8080/"
        },
        "id": "mHAlBuje-Sy1",
        "outputId": "4cb01176-78e9-432b-82af-6d6578768379"
      },
      "execution_count": 93,
      "outputs": [
        {
          "output_type": "stream",
          "name": "stdout",
          "text": [
            "['apple', 'mango', 'Bannana']\n"
          ]
        }
      ]
    },
    {
      "cell_type": "code",
      "source": [
        "#each list have a sort() method which sort in alphanumerical order\n",
        "l1 = [\"apple\",\"mango\",\"bannana\"]\n",
        "l1.sort()\n",
        "print(l1)"
      ],
      "metadata": {
        "colab": {
          "base_uri": "https://localhost:8080/"
        },
        "id": "rAO_Fvgk-ixu",
        "outputId": "dc8e9c98-bebb-43a4-81b9-fa9730ec97a9"
      },
      "execution_count": 95,
      "outputs": [
        {
          "output_type": "stream",
          "name": "stdout",
          "text": [
            "['apple', 'bannana', 'mango']\n"
          ]
        }
      ]
    },
    {
      "cell_type": "code",
      "source": [
        "l1 = [66,76,14,33,12,]\n",
        "l1.sort()\n",
        "print(l1)"
      ],
      "metadata": {
        "colab": {
          "base_uri": "https://localhost:8080/"
        },
        "id": "o47k9_eS_HXl",
        "outputId": "b17fbc98-6d87-4826-ddfe-13acee12158a"
      },
      "execution_count": 99,
      "outputs": [
        {
          "output_type": "stream",
          "name": "stdout",
          "text": [
            "[12, 14, 33, 66, 76]\n"
          ]
        }
      ]
    },
    {
      "cell_type": "code",
      "source": [
        "#Descending sorting\n",
        "l1 = [66,76,14,33,12]\n",
        "l1.sort(reverse = True)\n",
        "print(l1)"
      ],
      "metadata": {
        "colab": {
          "base_uri": "https://localhost:8080/"
        },
        "id": "q3q5f_68_fyQ",
        "outputId": "1299c1bc-79b8-4625-c21a-3f1d31ff5ede"
      },
      "execution_count": 100,
      "outputs": [
        {
          "output_type": "stream",
          "name": "stdout",
          "text": [
            "[76, 66, 33, 14, 12]\n"
          ]
        }
      ]
    },
    {
      "cell_type": "code",
      "source": [
        "l1 = [\"apple\",\"mango\",\"bannana\"]\n",
        "l2 = [11 , 12 , 13 ]\n",
        "l3 = l1 + l2\n",
        "print(l3)"
      ],
      "metadata": {
        "colab": {
          "base_uri": "https://localhost:8080/"
        },
        "id": "la1aG57l_p-A",
        "outputId": "1b09187a-bb83-42f8-e128-5b2517a3c9be"
      },
      "execution_count": 102,
      "outputs": [
        {
          "output_type": "stream",
          "name": "stdout",
          "text": [
            "['apple', 'mango', 'bannana', 11, 12, 13]\n"
          ]
        }
      ]
    },
    {
      "cell_type": "code",
      "source": [
        "l1 = [\"apple\",\"mango\",\"bannana\"]\n",
        "l2 = [11 , 12 , 13 ]\n",
        "for x in l2:\n",
        "  print(l2)"
      ],
      "metadata": {
        "colab": {
          "base_uri": "https://localhost:8080/"
        },
        "id": "9igzpqtQAN8A",
        "outputId": "0b7693c9-8e35-44e9-fa26-542960570733"
      },
      "execution_count": 104,
      "outputs": [
        {
          "output_type": "stream",
          "name": "stdout",
          "text": [
            "[11, 12, 13]\n",
            "[11, 12, 13]\n",
            "[11, 12, 13]\n"
          ]
        }
      ]
    },
    {
      "cell_type": "code",
      "source": [
        "l1 = [\"apple\",\"mango\",\"bannana\"]\n",
        "l2 = [11 , 12 , 13 ]\n",
        "\n",
        "l1.extend(l2)\n",
        "\n",
        "print(l1)"
      ],
      "metadata": {
        "colab": {
          "base_uri": "https://localhost:8080/"
        },
        "id": "HpC9CDdmAHTr",
        "outputId": "bb595a90-32d6-47f3-a810-e0933e50c22b"
      },
      "execution_count": 103,
      "outputs": [
        {
          "output_type": "stream",
          "name": "stdout",
          "text": [
            "['apple', 'mango', 'bannana', 11, 12, 13]\n"
          ]
        }
      ]
    }
  ]
}