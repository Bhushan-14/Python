{
  "nbformat": 4,
  "nbformat_minor": 0,
  "metadata": {
    "colab": {
      "provenance": [],
      "authorship_tag": "ABX9TyNm0F5fTa7XNsMeYfCR4n39",
      "include_colab_link": true
    },
    "kernelspec": {
      "name": "python3",
      "display_name": "Python 3"
    },
    "language_info": {
      "name": "python"
    }
  },
  "cells": [
    {
      "cell_type": "markdown",
      "metadata": {
        "id": "view-in-github",
        "colab_type": "text"
      },
      "source": [
        "<a href=\"https://colab.research.google.com/github/Bhushan-14/Python/blob/main/Python_7_py.ipynb\" target=\"_parent\"><img src=\"https://colab.research.google.com/assets/colab-badge.svg\" alt=\"Open In Colab\"/></a>"
      ]
    },
    {
      "cell_type": "code",
      "execution_count": null,
      "metadata": {
        "colab": {
          "base_uri": "https://localhost:8080/"
        },
        "id": "zX6yNZmZCR4e",
        "outputId": "493e8bfb-631c-449d-8700-0b8a100553af"
      },
      "outputs": [
        {
          "output_type": "stream",
          "name": "stdout",
          "text": [
            "Initial Stack\n",
            "['s', 'a', 'g', 'a', 'r']\n",
            "\n",
            " Elements poped from stack:  \n",
            "\t r\n",
            "\t a\n",
            "\t g\n",
            "\t a\n",
            "\t s\n",
            "Stack after elements are pop\n",
            "[]\n"
          ]
        }
      ],
      "source": [
        "#Stack implementation in python using list\n",
        "stack = []\n",
        "stack.append(\"s\")\n",
        "stack.append(\"a\")\n",
        "stack.append(\"g\")\n",
        "stack.append(\"a\")\n",
        "stack.append(\"r\")\n",
        "print(\"Initial Stack\")\n",
        "print(stack)\n",
        "\n",
        "#Pop function to remove elements from stack in lifo order\n",
        "\n",
        "print(\"\\n Elements poped from stack:  \")\n",
        "print(\"\\t\",stack.pop())\n",
        "print(\"\\t\",stack.pop())\n",
        "print(\"\\t\",stack.pop())\n",
        "print(\"\\t\",stack.pop())\n",
        "print(\"\\t\",stack.pop())\n",
        "\n",
        "print(\"Stack after elements are pop\")\n",
        "print(stack)\n",
        "#after pop this gives error since stack is emp"
      ]
    },
    {
      "cell_type": "code",
      "source": [
        "#Stack implementation in python using collections.deque\n",
        "#Python stack can be implemented using deque class from the collection module.\n",
        "#Deques prefred over the list in the cases where we need quicker append and pop operation from  both the end of the container."
      ],
      "metadata": {
        "id": "UuNQKQfEDjg5"
      },
      "execution_count": null,
      "outputs": []
    },
    {
      "cell_type": "code",
      "source": [
        "from collections import deque\n",
        "stack = deque()\n",
        "\n",
        "stack.append(\"s\")\n",
        "stack.append(\"a\")\n",
        "stack.append(\"g\")\n",
        "stack.append(\"a\")\n",
        "stack.append(\"r\")\n",
        "print(\"Initial Stack\")\n",
        "print(stack)\n",
        "\n",
        "print(\"\\n Elements poped from stack:  \")\n",
        "print(\"\\t\",stack.pop())\n",
        "print(\"\\t\",stack.pop())\n",
        "print(\"\\t\",stack.pop())\n",
        "print(\"\\t\",stack.pop())\n",
        "print(\"\\t\",stack.pop())\n",
        "\n",
        "print(\"Stack after elements are pop\")\n",
        "print(stack)"
      ],
      "metadata": {
        "colab": {
          "base_uri": "https://localhost:8080/"
        },
        "id": "W5DkxqKOE5H0",
        "outputId": "7879deb4-bcc2-48dd-e9af-c40e3dd1d259"
      },
      "execution_count": null,
      "outputs": [
        {
          "output_type": "stream",
          "name": "stdout",
          "text": [
            "Initial Stack\n",
            "deque(['s', 'a', 'g', 'a', 'r'])\n",
            "\n",
            " Elements poped from stack:  \n",
            "\t r\n",
            "\t a\n",
            "\t g\n",
            "\t a\n",
            "\t s\n",
            "Stack after elements are pop\n",
            "deque([])\n"
          ]
        }
      ]
    },
    {
      "cell_type": "code",
      "source": [
        "#python program to demonstrate implementation of stack using queue module\n",
        "from queue import LifoQueue\n",
        "\n",
        "#Initializing a strack\n",
        "stack = LifoQueue()\n",
        "\n",
        "stack.put(\"s\")\n",
        "stack.put(\"a\")\n",
        "stack.put(\"g\")\n",
        "stack.put(\"a\")\n",
        "stack.put(\"r\")\n",
        "\n",
        "print(\"Full: \",stack.full())\n",
        "print(\"Size: \",stack.qsize())\n",
        "\n",
        "print(\"\\n Elements poped from stack:  \")\n",
        "print(\"\\t\",stack.get())\n",
        "print(\"\\t\",stack.get())\n",
        "print(\"\\t\",stack.get())\n",
        "print(\"\\t\",stack.get())\n",
        "print(\"\\t\",stack.get())\n",
        "\n",
        "print(\"\\nEmpty: \",stack.empty())"
      ],
      "metadata": {
        "colab": {
          "base_uri": "https://localhost:8080/"
        },
        "id": "-tmuaQ2ODTNU",
        "outputId": "3d93ef11-2af8-48aa-95ee-028d5034ab86"
      },
      "execution_count": null,
      "outputs": [
        {
          "output_type": "stream",
          "name": "stdout",
          "text": [
            "Full:  False\n",
            "Size:  5\n",
            "\n",
            " Elements poped from stack:  \n",
            "\t r\n",
            "\t a\n",
            "\t g\n",
            "\t a\n",
            "\t s\n",
            "\n",
            "Empty:  True\n"
          ]
        }
      ]
    },
    {
      "cell_type": "code",
      "source": [
        "#Queue in Python\n",
        "#Like stack queue is linear data structure which works on principle of FIFO"
      ],
      "metadata": {
        "id": "dJawrprEGWLj"
      },
      "execution_count": null,
      "outputs": []
    },
    {
      "cell_type": "code",
      "source": [
        "#Queue Initialization\n",
        "queue = []\n",
        "\n",
        "#Inserting elements in queue\n",
        "queue.append(\"s\")\n",
        "queue.append(\"a\")\n",
        "queue.append(\"g\")\n",
        "queue.append(\"a\")\n",
        "queue.append(\"r\")\n",
        "\n",
        "print(\"Initial Queue:\")\n",
        "print(queue)\n",
        "\n",
        "#Removing elements from the queue\n",
        "print(\"\\n Elements Dequed from the Queue: \")\n",
        "print(queue.pop(0))\n",
        "print(queue.pop(0))\n",
        "print(queue.pop(0))\n",
        "print(queue.pop(0))\n",
        "print(queue.pop(0))\n",
        "\n",
        "print(\"Queue after removing elements: \")\n",
        "print(queue)"
      ],
      "metadata": {
        "colab": {
          "base_uri": "https://localhost:8080/"
        },
        "id": "U3p9ZY6374WI",
        "outputId": "521e38b4-d19e-4ba7-94da-c4f443e40150"
      },
      "execution_count": null,
      "outputs": [
        {
          "output_type": "stream",
          "name": "stdout",
          "text": [
            "Initial Queue:\n",
            "['s', 'a', 'g', 'a', 'r']\n",
            "\n",
            " Elements Dequed from the Queue: \n",
            "s\n",
            "a\n",
            "g\n",
            "a\n",
            "r\n",
            "Queue after removing elements: \n",
            "[]\n"
          ]
        }
      ]
    },
    {
      "cell_type": "code",
      "source": [
        "#Implementation Queue using collections deque\n",
        "from collections import deque\n",
        "\n",
        "#Initialization of Queue\n",
        "queue = deque()\n",
        "\n",
        "#Inserting elements in queue\n",
        "queue.append(\"s\")\n",
        "queue.append(\"a\")\n",
        "queue.append(\"g\")\n",
        "queue.append(\"a\")\n",
        "queue.append(\"r\")\n",
        "\n",
        "print(\"Initial Queue:\")\n",
        "print(queue)\n",
        "\n",
        "#Removing elements from the queue\n",
        "print(\"\\n Elements Dequed from the Queue: \")\n",
        "print(queue.popleft())\n",
        "print(queue.popleft())\n",
        "print(queue.popleft())\n",
        "print(queue.popleft())\n",
        "print(queue.popleft())\n",
        "\n",
        "print(\"Queue after removing elements: \")\n",
        "print(queue)\n"
      ],
      "metadata": {
        "colab": {
          "base_uri": "https://localhost:8080/"
        },
        "id": "aYP5ojd29Fg5",
        "outputId": "8b580129-685d-4f0e-a86f-d7222b44105b"
      },
      "execution_count": null,
      "outputs": [
        {
          "output_type": "stream",
          "name": "stdout",
          "text": [
            "Initial Queue:\n",
            "deque(['s', 'a', 'g', 'a', 'r'])\n",
            "\n",
            " Elements Dequed from the Queue: \n",
            "s\n",
            "a\n",
            "g\n",
            "a\n",
            "r\n",
            "Queue after removing elements: \n",
            "deque([])\n"
          ]
        }
      ]
    },
    {
      "cell_type": "code",
      "source": [
        "#python program to demonstrate implementation of Queue using queue module\n",
        "from queue import Queue\n",
        "\n",
        "#Initialization of Queue\n",
        "queue = Queue(maxsize = 5)\n",
        "\n",
        "#Queue size gives the maxsize of queue\n",
        "print(\"Elements in queue are: \",queue.qsize())\n",
        "\n",
        "#Inserting elements in queue\n",
        "queue.put(\"s\")\n",
        "queue.put(\"a\")\n",
        "queue.put(\"g\")\n",
        "queue.put(\"a\")\n",
        "queue.put(\"r\")\n",
        "\n",
        "print(\"Elements in queue are: \",queue.qsize())\n",
        "\n",
        "#Return bollean after for empty queue\n",
        "print(\"\\n Full: \",queue.full())\n",
        "\n",
        "#Removing elements from the queue\n",
        "print(\"\\n Elements Dequed from the Queue: \")\n",
        "print(queue.get())\n",
        "print(queue.get())\n",
        "print(queue.get())\n",
        "print(queue.get())\n",
        "print(queue.get())\n",
        "\n",
        "#Return bollean after for empty queue\n",
        "print(\"\\n Empty: \",queue.empty())\n",
        "\n",
        "queue.put(\"s\")\n",
        "print(\"\\n Empty: \",queue.empty())\n",
        "print(\"Elements in queue are: \",queue.qsize())"
      ],
      "metadata": {
        "colab": {
          "base_uri": "https://localhost:8080/"
        },
        "id": "uQHsEnfv-H12",
        "outputId": "6ee0748b-40ee-4c5b-ec70-300223f303b7"
      },
      "execution_count": null,
      "outputs": [
        {
          "output_type": "stream",
          "name": "stdout",
          "text": [
            "Elements in queue are:  0\n",
            "Elements in queue are:  5\n",
            "\n",
            " Full:  True\n",
            "\n",
            " Elements Dequed from the Queue: \n",
            "s\n",
            "a\n",
            "g\n",
            "a\n",
            "r\n",
            "\n",
            " Empty:  True\n",
            "\n",
            " Empty:  False\n",
            "Elements in queue are:  1\n"
          ]
        }
      ]
    },
    {
      "cell_type": "code",
      "source": [
        "#Linked List in Python\n",
        "class Node:\n",
        "  #Function to initialize the node object\n",
        "  def __init__(self, data):\n",
        "    self.data = data\n",
        "    self.next = None\n",
        "#Linked Class contains Npode object\n",
        "class LinkedList:\n",
        "  #Function to initialize head\n",
        "  def __init__(self):\n",
        "    self.head = None\n",
        "\n",
        "   #Function to print elements of linked list\n",
        "  def PrintList(self):\n",
        "    temp = self.head\n",
        "    while(temp):\n",
        "      print(temp.data)\n",
        "      temp = temp.next\n",
        "if __name__ =='__main__':\n",
        "  llist = LinkedList() #start with empty list\n",
        "  llist.head = Node(\"Sagar\")\n",
        "  second = Node(\"Hrishi\")\n",
        "  third = Node(\"Bhand Mayur\")\n",
        "\n",
        "  llist.head.next = second #Link first node with second\n",
        "  second.next = third #Link second node with third\n",
        "\n",
        "llist.PrintList()"
      ],
      "metadata": {
        "colab": {
          "base_uri": "https://localhost:8080/"
        },
        "id": "soacVk3aARwN",
        "outputId": "df8fe6db-92c2-4b5e-d408-1c06ae2bb17d"
      },
      "execution_count": null,
      "outputs": [
        {
          "output_type": "stream",
          "name": "stdout",
          "text": [
            "Sagar\n",
            "Hrishi\n",
            "Bhand Mayur\n"
          ]
        }
      ]
    },
    {
      "cell_type": "code",
      "source": [
        "def main():\n",
        "    linked_list = LinkedList()\n",
        "    stack = Stack()\n",
        "    queue = Queue()\n",
        "\n",
        "    while True:\n",
        "        print(\"\\nMenu:\")\n",
        "        print(\"1. Linked List\")\n",
        "        print(\"2. Stack\")\n",
        "        print(\"3. Queue\")\n",
        "        print(\"4. Exit\")\n",
        "\n",
        "        choice = input(\"Enter your choice: \")\n",
        "\n",
        "        if choice == \"1\":\n",
        "            while True:\n",
        "                print(\"\\nLinked List Operations:\")\n",
        "                print(\"1. Insert at the End\")\n",
        "                print(\"2. Display\")\n",
        "                print(\"3. Back to Main Menu\")\n",
        "\n",
        "                ll_choice = input(\"Enter your choice: \")\n",
        "\n",
        "                if ll_choice == \"1\":\n",
        "                    data = input(\"Enter data to insert: \")\n",
        "                    linked_list.insert_at_end(data)\n",
        "                elif ll_choice == \"2\":\n",
        "                    linked_list.display()\n",
        "                elif ll_choice == \"3\":\n",
        "                    break\n",
        "                else:\n",
        "                    print(\"Invalid choice!\")\n",
        "\n",
        "        elif choice == \"2\":\n",
        "            while True:\n",
        "                print(\"\\nStack Operations:\")\n",
        "                print(\"1. Push\")\n",
        "                print(\"2. Pop\")\n",
        "                print(\"3. Peek\")\n",
        "                print(\"4. Display\")\n",
        "                print(\"5. Back to Main Menu\")\n",
        "\n",
        "                stack_choice = input(\"Enter your choice: \")\n",
        "\n",
        "                if stack_choice == \"1\":\n",
        "                    data = input(\"Enter data to push: \")\n",
        "                    stack.push(data)\n",
        "                elif stack_choice == \"2\":\n",
        "                    popped_item = stack.pop()\n",
        "                    if popped_item is not None:\n",
        "                        print(\"Popped:\", popped_item)\n",
        "                    else:\n",
        "                        print(\"Stack is empty.\")\n",
        "                elif stack_choice == \"3\":\n",
        "                    peeked_item = stack.peek()\n",
        "                    if peeked_item is not None:\n",
        "                        print(\"Peeked:\", peeked_item)\n",
        "                    else:\n",
        "                        print(\"Stack is empty.\")\n",
        "                elif stack_choice == \"4\":\n",
        "                    stack.display()\n",
        "                elif stack_choice == \"5\":\n",
        "                    break\n",
        "                else:\n",
        "                    print(\"Invalid choice!\")\n",
        "\n",
        "        elif choice == \"3\":\n",
        "            while True:\n",
        "                print(\"\\nQueue Operations:\")\n",
        "                print(\"1. Enqueue\")\n",
        "                print(\"2. Dequeue\")\n",
        "                print(\"3. Size\")\n",
        "                print(\"4. Display\")\n",
        "                print(\"5. Back to Main Menu\")\n",
        "\n",
        "                queue_choice = input(\"Enter your choice: \")\n",
        "\n",
        "                if queue_choice == \"1\":\n",
        "                    data = input(\"Enter data to enqueue: \")\n",
        "                    queue.enqueue(data)\n",
        "                elif queue_choice == \"2\":\n",
        "                    dequeued_item = queue.dequeue()\n",
        "                    if dequeued_item is not None:\n",
        "                        print(\"Dequeued:\", dequeued_item)\n",
        "                    else:\n",
        "                        print(\"Queue is empty.\")\n",
        "                elif queue_choice == \"3\":\n",
        "                    print(\"Size of Queue:\", queue.size())\n",
        "                elif queue_choice == \"4\":\n",
        "                    queue.display()\n",
        "                elif queue_choice == \"5\":\n",
        "                    break\n",
        "                else:\n",
        "                    print(\"Invalid choice!\")\n",
        "        elif choice == \"4\":\n",
        "            break\n",
        "        else:\n",
        "            print(\"Invalid choice!\")\n",
        "if __name__ == \"__main__\":\n",
        "    main()\n"
      ],
      "metadata": {
        "colab": {
          "base_uri": "https://localhost:8080/"
        },
        "id": "ct5V7Bp5lCL7",
        "outputId": "3f9d4aac-8566-47e4-cabd-d3e56332191f"
      },
      "execution_count": 4,
      "outputs": [
        {
          "name": "stdout",
          "output_type": "stream",
          "text": [
            "\n",
            "Menu:\n",
            "1. Linked List\n",
            "2. Stack\n",
            "3. Queue\n",
            "4. Exit\n",
            "Enter your choice: 1\n",
            "\n",
            "Linked List Operations:\n",
            "1. Insert at the End\n",
            "2. Display\n",
            "3. Back to Main Menu\n",
            "Enter your choice: 1\n",
            "Enter data to insert: 23\n",
            "\n",
            "Linked List Operations:\n",
            "1. Insert at the End\n",
            "2. Display\n",
            "3. Back to Main Menu\n",
            "Enter your choice: 1\n",
            "Enter data to insert: 25\n",
            "\n",
            "Linked List Operations:\n",
            "1. Insert at the End\n",
            "2. Display\n",
            "3. Back to Main Menu\n",
            "Enter your choice: 1\n",
            "Enter data to insert: 27\n",
            "\n",
            "Linked List Operations:\n",
            "1. Insert at the End\n",
            "2. Display\n",
            "3. Back to Main Menu\n",
            "Enter your choice: 2\n",
            "23 -> 25 -> 27 -> None\n",
            "\n",
            "Linked List Operations:\n",
            "1. Insert at the End\n",
            "2. Display\n",
            "3. Back to Main Menu\n",
            "Enter your choice: 3\n",
            "\n",
            "Menu:\n",
            "1. Linked List\n",
            "2. Stack\n",
            "3. Queue\n",
            "4. Exit\n",
            "Enter your choice: 4\n"
          ]
        }
      ]
    }
  ]
}