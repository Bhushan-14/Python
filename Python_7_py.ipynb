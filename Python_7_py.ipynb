{
  "nbformat": 4,
  "nbformat_minor": 0,
  "metadata": {
    "colab": {
      "provenance": [],
      "authorship_tag": "ABX9TyOm1J0g3VW8J3sMVGIOrHxi",
      "include_colab_link": true
    },
    "kernelspec": {
      "name": "python3",
      "display_name": "Python 3"
    },
    "language_info": {
      "name": "python"
    }
  },
  "cells": [
    {
      "cell_type": "markdown",
      "metadata": {
        "id": "view-in-github",
        "colab_type": "text"
      },
      "source": [
        "<a href=\"https://colab.research.google.com/github/Bhushan-14/Python/blob/main/Python_7_py.ipynb\" target=\"_parent\"><img src=\"https://colab.research.google.com/assets/colab-badge.svg\" alt=\"Open In Colab\"/></a>"
      ]
    },
    {
      "cell_type": "code",
      "execution_count": null,
      "metadata": {
        "colab": {
          "base_uri": "https://localhost:8080/"
        },
        "id": "zX6yNZmZCR4e",
        "outputId": "493e8bfb-631c-449d-8700-0b8a100553af"
      },
      "outputs": [
        {
          "output_type": "stream",
          "name": "stdout",
          "text": [
            "Initial Stack\n",
            "['s', 'a', 'g', 'a', 'r']\n",
            "\n",
            " Elements poped from stack:  \n",
            "\t r\n",
            "\t a\n",
            "\t g\n",
            "\t a\n",
            "\t s\n",
            "Stack after elements are pop\n",
            "[]\n"
          ]
        }
      ],
      "source": [
        "#Stack implementation in python using list\n",
        "stack = []\n",
        "stack.append(\"s\")\n",
        "stack.append(\"a\")\n",
        "stack.append(\"g\")\n",
        "stack.append(\"a\")\n",
        "stack.append(\"r\")\n",
        "print(\"Initial Stack\")\n",
        "print(stack)\n",
        "\n",
        "#Pop function to remove elements from stack in lifo order\n",
        "\n",
        "print(\"\\n Elements poped from stack:  \")\n",
        "print(\"\\t\",stack.pop())\n",
        "print(\"\\t\",stack.pop())\n",
        "print(\"\\t\",stack.pop())\n",
        "print(\"\\t\",stack.pop())\n",
        "print(\"\\t\",stack.pop())\n",
        "\n",
        "print(\"Stack after elements are pop\")\n",
        "print(stack)\n",
        "#after pop this gives error since stack is emp"
      ]
    },
    {
      "cell_type": "code",
      "source": [
        "#Stack implementation in python using collections.deque\n",
        "#Python stack can be implemented using deque class from the collection module.\n",
        "#Deques prefred over the list in the cases where we need quicker append and pop operation from  both the end of the container."
      ],
      "metadata": {
        "id": "UuNQKQfEDjg5"
      },
      "execution_count": null,
      "outputs": []
    },
    {
      "cell_type": "code",
      "source": [
        "from collections import deque\n",
        "stack = deque()\n",
        "\n",
        "stack.append(\"s\")\n",
        "stack.append(\"a\")\n",
        "stack.append(\"g\")\n",
        "stack.append(\"a\")\n",
        "stack.append(\"r\")\n",
        "print(\"Initial Stack\")\n",
        "print(stack)\n",
        "\n",
        "print(\"\\n Elements poped from stack:  \")\n",
        "print(\"\\t\",stack.pop())\n",
        "print(\"\\t\",stack.pop())\n",
        "print(\"\\t\",stack.pop())\n",
        "print(\"\\t\",stack.pop())\n",
        "print(\"\\t\",stack.pop())\n",
        "\n",
        "print(\"Stack after elements are pop\")\n",
        "print(stack)"
      ],
      "metadata": {
        "colab": {
          "base_uri": "https://localhost:8080/"
        },
        "id": "W5DkxqKOE5H0",
        "outputId": "7879deb4-bcc2-48dd-e9af-c40e3dd1d259"
      },
      "execution_count": null,
      "outputs": [
        {
          "output_type": "stream",
          "name": "stdout",
          "text": [
            "Initial Stack\n",
            "deque(['s', 'a', 'g', 'a', 'r'])\n",
            "\n",
            " Elements poped from stack:  \n",
            "\t r\n",
            "\t a\n",
            "\t g\n",
            "\t a\n",
            "\t s\n",
            "Stack after elements are pop\n",
            "deque([])\n"
          ]
        }
      ]
    },
    {
      "cell_type": "code",
      "source": [
        "#python program to demonstrate implementation of stack using queue module\n",
        "from queue import LifoQueue\n",
        "\n",
        "#Initializing a strack\n",
        "stack = LifoQueue()\n",
        "\n",
        "stack.put(\"s\")\n",
        "stack.put(\"a\")\n",
        "stack.put(\"g\")\n",
        "stack.put(\"a\")\n",
        "stack.put(\"r\")\n",
        "\n",
        "print(\"Full: \",stack.full())\n",
        "print(\"Size: \",stack.qsize())\n",
        "\n",
        "print(\"\\n Elements poped from stack:  \")\n",
        "print(\"\\t\",stack.get())\n",
        "print(\"\\t\",stack.get())\n",
        "print(\"\\t\",stack.get())\n",
        "print(\"\\t\",stack.get())\n",
        "print(\"\\t\",stack.get())\n",
        "\n",
        "print(\"\\nEmpty: \",stack.empty())"
      ],
      "metadata": {
        "colab": {
          "base_uri": "https://localhost:8080/"
        },
        "id": "-tmuaQ2ODTNU",
        "outputId": "3d93ef11-2af8-48aa-95ee-028d5034ab86"
      },
      "execution_count": null,
      "outputs": [
        {
          "output_type": "stream",
          "name": "stdout",
          "text": [
            "Full:  False\n",
            "Size:  5\n",
            "\n",
            " Elements poped from stack:  \n",
            "\t r\n",
            "\t a\n",
            "\t g\n",
            "\t a\n",
            "\t s\n",
            "\n",
            "Empty:  True\n"
          ]
        }
      ]
    },
    {
      "cell_type": "code",
      "source": [
        "#Queue in Python\n",
        "#Like stack queue is linear data structure which works on principle of FIFO"
      ],
      "metadata": {
        "id": "dJawrprEGWLj"
      },
      "execution_count": null,
      "outputs": []
    },
    {
      "cell_type": "code",
      "source": [
        "#Queue Initialization\n",
        "queue = []\n",
        "\n",
        "#Inserting elements in queue\n",
        "queue.append(\"s\")\n",
        "queue.append(\"a\")\n",
        "queue.append(\"g\")\n",
        "queue.append(\"a\")\n",
        "queue.append(\"r\")\n",
        "\n",
        "print(\"Initial Queue:\")\n",
        "print(queue)\n",
        "\n",
        "#Removing elements from the queue\n",
        "print(\"\\n Elements Dequed from the Queue: \")\n",
        "print(queue.pop(0))\n",
        "print(queue.pop(0))\n",
        "print(queue.pop(0))\n",
        "print(queue.pop(0))\n",
        "print(queue.pop(0))\n",
        "\n",
        "print(\"Queue after removing elements: \")\n",
        "print(queue)"
      ],
      "metadata": {
        "colab": {
          "base_uri": "https://localhost:8080/"
        },
        "id": "U3p9ZY6374WI",
        "outputId": "521e38b4-d19e-4ba7-94da-c4f443e40150"
      },
      "execution_count": 6,
      "outputs": [
        {
          "output_type": "stream",
          "name": "stdout",
          "text": [
            "Initial Queue:\n",
            "['s', 'a', 'g', 'a', 'r']\n",
            "\n",
            " Elements Dequed from the Queue: \n",
            "s\n",
            "a\n",
            "g\n",
            "a\n",
            "r\n",
            "Queue after removing elements: \n",
            "[]\n"
          ]
        }
      ]
    },
    {
      "cell_type": "code",
      "source": [
        "#Implementation Queue using collections deque\n",
        "from collections import deque\n",
        "\n",
        "#Initialization of Queue\n",
        "queue = deque()\n",
        "\n",
        "#Inserting elements in queue\n",
        "queue.append(\"s\")\n",
        "queue.append(\"a\")\n",
        "queue.append(\"g\")\n",
        "queue.append(\"a\")\n",
        "queue.append(\"r\")\n",
        "\n",
        "print(\"Initial Queue:\")\n",
        "print(queue)\n",
        "\n",
        "#Removing elements from the queue\n",
        "print(\"\\n Elements Dequed from the Queue: \")\n",
        "print(queue.popleft())\n",
        "print(queue.popleft())\n",
        "print(queue.popleft())\n",
        "print(queue.popleft())\n",
        "print(queue.popleft())\n",
        "\n",
        "print(\"Queue after removing elements: \")\n",
        "print(queue)\n"
      ],
      "metadata": {
        "colab": {
          "base_uri": "https://localhost:8080/"
        },
        "id": "aYP5ojd29Fg5",
        "outputId": "8b580129-685d-4f0e-a86f-d7222b44105b"
      },
      "execution_count": 9,
      "outputs": [
        {
          "output_type": "stream",
          "name": "stdout",
          "text": [
            "Initial Queue:\n",
            "deque(['s', 'a', 'g', 'a', 'r'])\n",
            "\n",
            " Elements Dequed from the Queue: \n",
            "s\n",
            "a\n",
            "g\n",
            "a\n",
            "r\n",
            "Queue after removing elements: \n",
            "deque([])\n"
          ]
        }
      ]
    },
    {
      "cell_type": "code",
      "source": [
        "#python program to demonstrate implementation of Queue using queue module\n",
        "from queue import Queue\n",
        "\n",
        "#Initialization of Queue\n",
        "queue = Queue(maxsize = 5)\n",
        "\n",
        "#Queue size gives the maxsize of queue\n",
        "print(\"Elements in queue are: \",queue.qsize())\n",
        "\n",
        "#Inserting elements in queue\n",
        "queue.put(\"s\")\n",
        "queue.put(\"a\")\n",
        "queue.put(\"g\")\n",
        "queue.put(\"a\")\n",
        "queue.put(\"r\")\n",
        "\n",
        "print(\"Elements in queue are: \",queue.qsize())\n",
        "\n",
        "#Return bollean after for empty queue\n",
        "print(\"\\n Full: \",queue.full())\n",
        "\n",
        "#Removing elements from the queue\n",
        "print(\"\\n Elements Dequed from the Queue: \")\n",
        "print(queue.get())\n",
        "print(queue.get())\n",
        "print(queue.get())\n",
        "print(queue.get())\n",
        "print(queue.get())\n",
        "\n",
        "#Return bollean after for empty queue\n",
        "print(\"\\n Empty: \",queue.empty())\n",
        "\n",
        "queue.put(\"s\")\n",
        "print(\"\\n Empty: \",queue.empty())\n",
        "print(\"Elements in queue are: \",queue.qsize())"
      ],
      "metadata": {
        "colab": {
          "base_uri": "https://localhost:8080/"
        },
        "id": "uQHsEnfv-H12",
        "outputId": "6ee0748b-40ee-4c5b-ec70-300223f303b7"
      },
      "execution_count": 19,
      "outputs": [
        {
          "output_type": "stream",
          "name": "stdout",
          "text": [
            "Elements in queue are:  0\n",
            "Elements in queue are:  5\n",
            "\n",
            " Full:  True\n",
            "\n",
            " Elements Dequed from the Queue: \n",
            "s\n",
            "a\n",
            "g\n",
            "a\n",
            "r\n",
            "\n",
            " Empty:  True\n",
            "\n",
            " Empty:  False\n",
            "Elements in queue are:  1\n"
          ]
        }
      ]
    },
    {
      "cell_type": "code",
      "source": [
        "#Linked List in Python\n",
        "class Node:\n",
        "  #Function to initialize the node object\n",
        "  def __init__(self, data):\n",
        "    self.data = data\n",
        "    self.next = None\n",
        "#Linked Class contains Npode object\n",
        "class LinkedList:\n",
        "  #Function to initialize head\n",
        "  def __init__(self):\n",
        "    self.head = None\n",
        "\n",
        "   #Function to print elements of linked list\n",
        "  def PrintList(self):\n",
        "    temp = self.head\n",
        "    while(temp):\n",
        "      print(temp.data)\n",
        "      temp = temp.next\n",
        "if __name__ =='__main__':\n",
        "  llist = LinkedList() #start with empty list\n",
        "  llist.head = Node(\"Sagar\")\n",
        "  second = Node(\"Hrishi\")\n",
        "  third = Node(\"Bhand Mayur\")\n",
        "\n",
        "  llist.head.next = second #Link first node with second\n",
        "  second.next = third #Link second node with third\n",
        "\n",
        "llist.PrintList()"
      ],
      "metadata": {
        "colab": {
          "base_uri": "https://localhost:8080/"
        },
        "id": "soacVk3aARwN",
        "outputId": "df8fe6db-92c2-4b5e-d408-1c06ae2bb17d"
      },
      "execution_count": 27,
      "outputs": [
        {
          "output_type": "stream",
          "name": "stdout",
          "text": [
            "Sagar\n",
            "Hrishi\n",
            "Bhand Mayur\n"
          ]
        }
      ]
    }
  ]
}